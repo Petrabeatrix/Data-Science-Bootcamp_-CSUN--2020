{
 "cells": [
  {
   "cell_type": "markdown",
   "metadata": {},
   "source": [
    "# Python 1 week  with Shapiro\n"
   ]
  },
  {
   "cell_type": "markdown",
   "metadata": {},
   "source": [
    "## Numerical expressions"
   ]
  },
  {
   "cell_type": "code",
   "execution_count": 9,
   "metadata": {
    "scrolled": true
   },
   "outputs": [
    {
     "name": "stdout",
     "output_type": "stream",
     "text": [
      "4.118903318903319\n",
      "2.9760461760461765\n",
      "3.017071817071818\n"
     ]
    }
   ],
   "source": [
    "print (4 * (1 - 1/3+ 1/5 + 1/7 + 1/9 - 1/11)) \n",
    "print (4 * (1 - 1/3 + 1/5 - 1/7 + 1/9 -1/11))\n",
    "print (4 * (1-1/3+1/5-1/7 + 1/9 - 1/11 + 1/13 - 1/15))"
   ]
  },
  {
   "cell_type": "markdown",
   "metadata": {},
   "source": [
    "## Population rate"
   ]
  },
  {
   "cell_type": "code",
   "execution_count": 16,
   "metadata": {},
   "outputs": [
    {
     "name": "stdout",
     "output_type": "stream",
     "text": [
      "312727510.17582417\n",
      "313422534.35164833\n",
      "314117558.52747256\n",
      "314812582.7032967\n",
      "315507606.8791209\n"
     ]
    }
   ],
   "source": [
    "# data given\n",
    "population= 312032486\n",
    "\n",
    "birth_rate_pMinute = 60 / 7 \n",
    "death_rate_pMinute = 60 / -13\n",
    "newImm_pMinute =  60 / 45\n",
    "years = 5\n",
    "\n",
    "total_rate_minute = birth_rate_pMinute + death_rate_pMinute + newImm_pMinute\n",
    "\n",
    "net_change = 365  * 12 * 30 * total_rate_minute\n",
    "\n",
    "print (population + 1 * net_change)\n",
    "print (population + 2 * net_change)\n",
    "print (population + 3 * net_change)\n",
    "print (population + 4 * net_change)\n",
    "print (population + 5 * net_change)"
   ]
  },
  {
   "cell_type": "markdown",
   "metadata": {},
   "source": [
    "### 2. version "
   ]
  },
  {
   "cell_type": "code",
   "execution_count": 10,
   "metadata": {},
   "outputs": [
    {
     "name": "stdout",
     "output_type": "stream",
     "text": [
      "Population in year 1: 314812583\n",
      "Population in year 2: 317592680\n",
      "Population in year 3: 320372777\n",
      "Population in year 4: 323152874\n",
      "Population in year 5: 325932971\n"
     ]
    }
   ],
   "source": [
    "# What are given\n",
    "years = 5\n",
    "pop_current = 312032486\n",
    "birth_rate = 1/7\n",
    "death_rate = -1/13\n",
    "immig_rate = 1/45\n",
    "year_in_seconds = 365 * 24 * 3600\n",
    "\n",
    "# Compute the rate growth in population per year\n",
    "pop_growth_rate = round(year_in_seconds * birth_rate) +\\\n",
    "round(year_in_seconds * death_rate) +\\\n",
    "round(year_in_seconds * immig_rate)\n",
    "\n",
    "\n",
    "# Asumme the population groww linearly per year\n",
    "print('Population in year 1:', str(pop_current + pop_growth_rate))\n",
    "print('Population in year 2:', str(pop_current + 2 * pop_growth_rate))\n",
    "print('Population in year 3:', str(pop_current + 3 * pop_growth_rate))\n",
    "print('Population in year 4:', str(pop_current + 4 * pop_growth_rate))\n",
    "print('Population in year 5:', str(pop_current + 5 * pop_growth_rate))"
   ]
  },
  {
   "cell_type": "markdown",
   "metadata": {},
   "source": [
    "x = input ()\n",
    "print( 2 *x)"
   ]
  },
  {
   "cell_type": "markdown",
   "metadata": {},
   "source": [
    "## Future investment value"
   ]
  },
  {
   "cell_type": "code",
   "execution_count": 8,
   "metadata": {},
   "outputs": [
    {
     "name": "stdout",
     "output_type": "stream",
     "text": [
      "Enter investment amount:1000\n",
      "Enter annual interest rate:4.25\n",
      "Enter number of years1\n",
      "amount\n",
      "rate\n",
      "years\n",
      "Accumlated value is:\n",
      "1647.8313602236476\n"
     ]
    }
   ],
   "source": [
    "## calculate future investment value\n",
    "amount = int(input (\"Enter investment amount:\"))\n",
    "rate = float(input(\"Enter annual interest rate:\"))\n",
    "years = int(input(\"Enter number of years\"))\n",
    "\n",
    "numberOfMonth = 12 * years\n",
    "investmentValue_future = amount * (1 + rate/100) ** numberOfMonth\n",
    "\n",
    "print('amount')\n",
    "print('rate')\n",
    "print('years')\n",
    "print('Accumlated value is:')\n",
    "print(investmentValue_future)"
   ]
  },
  {
   "cell_type": "markdown",
   "metadata": {},
   "source": [
    "### 2. version"
   ]
  },
  {
   "cell_type": "code",
   "execution_count": 2,
   "metadata": {},
   "outputs": [
    {
     "name": "stdout",
     "output_type": "stream",
     "text": [
      "Enter Investment Amount:1000\n",
      "Enter Monthly Interest Rate:4.25\n",
      "Enter Number of Years:1\n",
      "1647.8313602236476\n"
     ]
    }
   ],
   "source": [
    "invesmentAmount = eval(input('Enter Investment Amount:'))\n",
    "monthlyInterestRate = eval(input('Enter Monthly Interest Rate:'))\n",
    "numberOfYears = eval(input('Enter Number of Years:'))\n",
    "\n",
    "numberOfMonth = 12 * numberOfYears\n",
    "futureInvestmentValue = invesmentAmount * (1 + monthlyInterestRate / 100) ** numberOfMonth\n",
    "print(futureInvestmentValue)"
   ]
  },
  {
   "cell_type": "code",
   "execution_count": null,
   "metadata": {},
   "outputs": [],
   "source": []
  }
 ],
 "metadata": {
  "kernelspec": {
   "display_name": "Python 3",
   "language": "python",
   "name": "python3"
  },
  "language_info": {
   "codemirror_mode": {
    "name": "ipython",
    "version": 3
   },
   "file_extension": ".py",
   "mimetype": "text/x-python",
   "name": "python",
   "nbconvert_exporter": "python",
   "pygments_lexer": "ipython3",
   "version": "3.7.6"
  }
 },
 "nbformat": 4,
 "nbformat_minor": 4
}
