{
 "cells": [
  {
   "cell_type": "markdown",
   "metadata": {},
   "source": [
    "# List and Arrays"
   ]
  },
  {
   "cell_type": "markdown",
   "metadata": {},
   "source": [
    "## 10.1 Assign grades \n",
    "Write a program that reads a list of scores and then assigns grades\n",
    "based on the following scheme:\n",
    "The grade is A if score is best – 10.\n",
    "The grade is B if score is best – 20.\n",
    "The grade is C if score is best – 30.\n",
    "The grade is D if score is best – 40.\n",
    "The grade is F otherwise.\n",
    "Here is a sample run:\n",
    "7=\n",
    "7=\n",
    "7=\n",
    "7=\n",
    "Enter scores: \\\n",
    "Student 0 score is 40 and grade is C\n",
    "Student 1 score is 55 and grade is B\n",
    "Student 2 score is 70 and grade is A\n",
    "Student 3 score is 58 and grade is B"
   ]
  },
  {
   "cell_type": "code",
   "execution_count": null,
   "metadata": {},
   "outputs": [],
   "source": [
    "enterScore = eval(input(\"Enter the scores:\" ).split())\n",
    "\n",
    "\n",
    "\n",
    "\n",
    "    \n",
    "scoreA >= scores -10\n",
    "scoreB >= scores -20\n",
    "scoreC >= scores -30\n",
    "scoreD >= scores -40\n",
    "scoreF >= scores "
   ]
  },
  {
   "cell_type": "code",
   "execution_count": 3,
   "metadata": {},
   "outputs": [
    {
     "ename": "TypeError",
     "evalue": "index() takes at least 1 argument (0 given)",
     "output_type": "error",
     "traceback": [
      "\u001b[1;31m---------------------------------------------------------------------------\u001b[0m",
      "\u001b[1;31mTypeError\u001b[0m                                 Traceback (most recent call last)",
      "\u001b[1;32m<ipython-input-3-4e6d01988be2>\u001b[0m in \u001b[0;36m<module>\u001b[1;34m\u001b[0m\n\u001b[0;32m      1\u001b[0m \u001b[0mgrade\u001b[0m \u001b[1;33m=\u001b[0m \u001b[1;33m[\u001b[0m\u001b[1;36m40\u001b[0m\u001b[1;33m,\u001b[0m \u001b[1;36m55\u001b[0m\u001b[1;33m,\u001b[0m \u001b[1;36m70\u001b[0m\u001b[1;33m,\u001b[0m \u001b[1;36m58\u001b[0m\u001b[1;33m]\u001b[0m\u001b[1;33m\u001b[0m\u001b[1;33m\u001b[0m\u001b[0m\n\u001b[1;32m----> 2\u001b[1;33m \u001b[0mgrade\u001b[0m\u001b[1;33m.\u001b[0m\u001b[0mindex\u001b[0m\u001b[1;33m(\u001b[0m\u001b[1;33m)\u001b[0m\u001b[1;33m\u001b[0m\u001b[1;33m\u001b[0m\u001b[0m\n\u001b[0m\u001b[0;32m      3\u001b[0m \u001b[0mprint\u001b[0m\u001b[1;33m(\u001b[0m \u001b[0mgrade\u001b[0m\u001b[1;33m[\u001b[0m\u001b[1;33m-\u001b[0m\u001b[1;36m1\u001b[0m\u001b[1;33m]\u001b[0m\u001b[1;33m,\u001b[0m \u001b[1;34m\"is an A\"\u001b[0m\u001b[1;33m)\u001b[0m\u001b[1;33m\u001b[0m\u001b[1;33m\u001b[0m\u001b[0m\n\u001b[0;32m      4\u001b[0m \u001b[1;32mfor\u001b[0m \u001b[0mi\u001b[0m \u001b[1;32min\u001b[0m \u001b[0mgrade\u001b[0m\u001b[1;33m:\u001b[0m\u001b[1;33m\u001b[0m\u001b[1;33m\u001b[0m\u001b[0m\n\u001b[0;32m      5\u001b[0m     \u001b[1;32mif\u001b[0m \u001b[1;33m(\u001b[0m\u001b[0mgrade\u001b[0m \u001b[1;33m>=\u001b[0m \u001b[1;33m(\u001b[0m\u001b[1;33m(\u001b[0m\u001b[0mgrade\u001b[0m\u001b[1;33m[\u001b[0m\u001b[1;33m-\u001b[0m\u001b[1;36m1\u001b[0m\u001b[1;33m]\u001b[0m\u001b[1;33m)\u001b[0m\u001b[1;33m-\u001b[0m\u001b[1;36m10\u001b[0m\u001b[1;33m)\u001b[0m\u001b[1;33m)\u001b[0m\u001b[1;33m:\u001b[0m\u001b[1;33m\u001b[0m\u001b[1;33m\u001b[0m\u001b[0m\n",
      "\u001b[1;31mTypeError\u001b[0m: index() takes at least 1 argument (0 given)"
     ]
    }
   ],
   "source": [
    "grade = [40, 55, 70, 58]\n",
    "if (i >= ((grade[-1])-10)):\n",
    "for i in range(len(grade)):\n",
    "    \n",
    "    if (grade >= ((grade[-1])-10)):\n",
    "        print(\"is an A\")\n",
    "    elif (grade >= ((grade[-1])-20)):\n",
    "        print(\"is a B\")\n",
    "    elif (grade >= ((grade[-1])-30)):\n",
    "        print(\"is a C\")\n",
    "    elif (grade >= ((grade[-1])-40)):\n",
    "        print(\"is a D\")\n",
    "    else:\n",
    "        print(\"Failure\")\n",
    "\n",
    "  #if (i >= ((grade[-1])-10)):\n",
    "    #for i in range(len(grade)):\n",
    "  #  if (i >= ((grade[-1])-10)):\n",
    "for i in range(len(grade)):\n",
    "g = max(grade)\n"
   ]
  },
  {
   "cell_type": "code",
   "execution_count": 6,
   "metadata": {},
   "outputs": [
    {
     "ename": "SyntaxError",
     "evalue": "unexpected EOF while parsing (<ipython-input-6-e66a18000b95>, line 3)",
     "output_type": "error",
     "traceback": [
      "\u001b[1;36m  File \u001b[1;32m\"<ipython-input-6-e66a18000b95>\"\u001b[1;36m, line \u001b[1;32m3\u001b[0m\n\u001b[1;33m    for i in range(len(grade)):\u001b[0m\n\u001b[1;37m                               ^\u001b[0m\n\u001b[1;31mSyntaxError\u001b[0m\u001b[1;31m:\u001b[0m unexpected EOF while parsing\n"
     ]
    }
   ],
   "source": [
    "grade = [40, 55, 70, 58]\n",
    "if (i >= ((grade[-1])-10)):\n",
    "    for i in range(len(grade)):"
   ]
  },
  {
   "cell_type": "code",
   "execution_count": 17,
   "metadata": {
    "scrolled": true
   },
   "outputs": [
    {
     "ename": "TypeError",
     "evalue": "score() missing 1 required positional argument: 'enterScore'",
     "output_type": "error",
     "traceback": [
      "\u001b[1;31m---------------------------------------------------------------------------\u001b[0m",
      "\u001b[1;31mTypeError\u001b[0m                                 Traceback (most recent call last)",
      "\u001b[1;32m<ipython-input-17-d72c207b36b7>\u001b[0m in \u001b[0;36m<module>\u001b[1;34m\u001b[0m\n\u001b[0;32m     13\u001b[0m \u001b[1;33m\u001b[0m\u001b[0m\n\u001b[0;32m     14\u001b[0m \u001b[1;33m\u001b[0m\u001b[0m\n\u001b[1;32m---> 15\u001b[1;33m \u001b[0mscore\u001b[0m\u001b[1;33m(\u001b[0m\u001b[1;33m)\u001b[0m\u001b[1;33m\u001b[0m\u001b[1;33m\u001b[0m\u001b[0m\n\u001b[0m\u001b[0;32m     16\u001b[0m \u001b[1;33m\u001b[0m\u001b[0m\n",
      "\u001b[1;31mTypeError\u001b[0m: score() missing 1 required positional argument: 'enterScore'"
     ]
    }
   ],
   "source": [
    "def score (score,enterScore):\n",
    "    enterScore = eval(input(\"Enter the scores:\" ))\n",
    "    if enterScore >= enterScores -10:\n",
    "        print('A')\n",
    "    elif enterScore >= enterScores -20:\n",
    "        print('B')\n",
    "    elif enterScore >= enterScores -30:\n",
    "        print('C')\n",
    "    elif enterScore >= enterScores -40:\n",
    "        print('D')\n",
    "    else:\n",
    "        print('F')\n",
    "\n",
    "    \n",
    "score()   \n",
    "\n"
   ]
  },
  {
   "cell_type": "code",
   "execution_count": null,
   "metadata": {},
   "outputs": [],
   "source": [
    "# Tuan version\n",
    "# Read student scores to the list\n",
    "list_scores = [int(k) for k in input('Enter integers between 1 and 100: ').split()]"
   ]
  },
  {
   "cell_type": "code",
   "execution_count": null,
   "metadata": {},
   "outputs": [],
   "source": [
    "## TUan version!!!\n",
    "# Function converts a score to a grade with best score given\n",
    "def score_to_grade(score, best_score):\n",
    "    if score >= best_score - 10:\n",
    "        return 'A'\n",
    "    \n",
    "    if score >= best_score - 20:\n",
    "        return 'B'\n",
    "    \n",
    "    if score >= best_score - 30:\n",
    "        return 'C'\n",
    "    \n",
    "    if score >= best_score - 40:\n",
    "        return 'D'\n",
    "     \n",
    "    return 'F'"
   ]
  },
  {
   "cell_type": "code",
   "execution_count": null,
   "metadata": {},
   "outputs": [],
   "source": [
    "# Create a list of grades from the list of scores\n",
    "best_score = max(list_scores)\n",
    "list_grades = [score_to_grade(score, best_score) for score in list_scores]\n",
    "\n",
    "# Print out student and grade\n",
    "for k in range(len(list_grades)):\n",
    "    print('Student {} score is {} and grade is {}'.format(k, list_scores[k], list_grades[k] ))"
   ]
  },
  {
   "cell_type": "code",
   "execution_count": 8,
   "metadata": {},
   "outputs": [
    {
     "name": "stdout",
     "output_type": "stream",
     "text": [
      "70 is an A\n",
      "Student 0 is an C\n",
      "Student 1 is an B\n",
      "Student 2 is an A\n",
      "Student 3 is an B\n",
      "70\n"
     ]
    }
   ],
   "source": [
    "# Ryon version\n",
    "# 10-1\n",
    "\n",
    "grade = [40, 55, 70, 58]\n",
    "g = max(grade)\n",
    "print(g, \"is an A\")\n",
    "for index, grade in enumerate(grades):\n",
    "    if (grade >= (g - 10)):\n",
    "        print('Student', index,  \"is an A\")\n",
    "    elif (grade >= (g - 20)):\n",
    "        print('Student', index,  \"is an B\")\n",
    "    elif (grade >= (g - 30)):\n",
    "        print('Student', index,  \"is an C\")\n",
    "    elif (grade >= (g - 40)):\n",
    "        print('Student', index,  \"is an D\")\n",
    "    else:\n",
    "        print(\"Failure\")\n",
    "        \n",
    "print(g)"
   ]
  },
  {
   "cell_type": "markdown",
   "metadata": {},
   "source": [
    "# 10.3 Count occurrence of numbers\n",
    "Write a program that reads some integers\n",
    "between 1 and 100 and counts the occurrences of each. Here is a sample run of\n",
    "the program:\n",
    "Enter integers between 1 and 100:\n",
    "2 occurs 2 times\n",
    "3 occurs 1 time\n",
    "4 occurs 1 time\n",
    "5 occurs 2 times\n",
    "6 occurs 1 time\n",
    "23 occurs 1 time\n",
    "43 occurs 1 time\n",
    "2 5 6 5 4 3 23 43 2\n",
    "Note that if a number occurs more than one time, the plural word “times” is used\n",
    "in the output."
   ]
  },
  {
   "cell_type": "code",
   "execution_count": null,
   "metadata": {},
   "outputs": [],
   "source": [
    "# my version\n",
    "\n",
    "\n",
    "count(range(1,100))"
   ]
  },
  {
   "cell_type": "code",
   "execution_count": 20,
   "metadata": {},
   "outputs": [
    {
     "name": "stdout",
     "output_type": "stream",
     "text": [
      "Enter integers between 1 and 100: 2\n"
     ]
    }
   ],
   "source": [
    "# Tuan version\n",
    "\n",
    "# Read input intgers to the list\n",
    "list_ints = [int(k) for k in input('Enter integers between 1 and 100: ').split()]      \n",
    "\n",
    "# Create a list of input integers counts, initilize with zero counts for all\n",
    "list_ints_counts = max(list_ints) * [0]\n",
    "\n",
    "# Count the occurences of each input integer\n",
    "for k in list_ints:\n",
    "    list_ints_counts[k - 1] += 1"
   ]
  },
  {
   "cell_type": "code",
   "execution_count": 21,
   "metadata": {},
   "outputs": [
    {
     "name": "stdout",
     "output_type": "stream",
     "text": [
      "2 occurs 1 time\n"
     ]
    }
   ],
   "source": [
    "# Print each of input integers and its count\n",
    "for i in range(len(list_ints_counts)):\n",
    "    # Only print integers each with count > 0\n",
    "    if (list_ints_counts[i] > 0):\n",
    "        freq_string = 'times' if list_ints_counts[i] > 1 else 'time'\n",
    "        print('{} occurs {} {}'.format(i + 1, list_ints_counts[i], freq_string))"
   ]
  },
  {
   "cell_type": "code",
   "execution_count": 9,
   "metadata": {},
   "outputs": [
    {
     "name": "stdout",
     "output_type": "stream",
     "text": [
      "2 occurs 2 times\n",
      "3 occurs 1 times\n",
      "4 occurs 1 times\n",
      "5 occurs 2 times\n",
      "6 occurs 1 times\n",
      "43 occurs 1 times\n",
      "23 occurs 1 times\n"
     ]
    }
   ],
   "source": [
    "# 10-3\n",
    "integers = [2, 5, 6, 5, 4, 3, 23, 43, 2]\n",
    "unique = set(integers)\n",
    "for each in unique:\n",
    "    print(each, 'occurs', integers.count(each), 'times')\n",
    "    \n",
    "# 10-5\n",
    "unique = set(integers)"
   ]
  },
  {
   "cell_type": "markdown",
   "metadata": {},
   "source": [
    "# 10.5 (Print distinct numbers) \n",
    "Write a program that reads in numbers separated by a\n",
    "space in one line and displays distinct numbers (i.e., if a number appears multiple\n",
    "times, it is displayed only once). (Hint: Read all the numbers and store\n",
    "them in list1. Create a new list list2. Add a number in list1 to list2.\n",
    "If the number is already in the list, ignore it.) Here is the sample run of the\n",
    "program:\n",
    "Enter ten numbers:\n",
    "The distinct numbers are: 1 2 3 6 4 5\n",
    "1 2 3 2 1 6 3 4 5 2\n"
   ]
  },
  {
   "cell_type": "code",
   "execution_count": 19,
   "metadata": {},
   "outputs": [
    {
     "data": {
      "text/plain": [
       "[(1, 1), (2, 19), (3, 21), (4, 18), (7, 23), (8, 45), (9, 56), (10, 5)]"
      ]
     },
     "execution_count": 19,
     "metadata": {},
     "output_type": "execute_result"
    }
   ],
   "source": [
    "# my version (shitty start)\n",
    "\n",
    "a=[1,2,3,4,7,8,9,10]\n",
    "b=[1, 19, 21, 18,23,45,56,5,9,19]\n",
    "zip(a,b)\n",
    "\n",
    "list(zip(a,b))\n"
   ]
  },
  {
   "cell_type": "code",
   "execution_count": null,
   "metadata": {},
   "outputs": [],
   "source": [
    "# Tuan version\n",
    "# Read input intgers to the list\n",
    "list_ints = [int(k) for k in input('Enter integers between 1 and 100: ').split()]  \n",
    "list_ints"
   ]
  },
  {
   "cell_type": "code",
   "execution_count": 4,
   "metadata": {},
   "outputs": [
    {
     "name": "stdout",
     "output_type": "stream",
     "text": [
      "Enter integers between 1 and 100: 5\n"
     ]
    }
   ],
   "source": [
    "# Read input intgers to the list\n",
    "list_ints = [int(k) for k in input('Enter integers between 1 and 100: ').split()]  \n",
    "list_ints\n",
    "\n",
    "# Create a distinct list from the input list\n",
    "set_ints = []\n",
    "for k in list_ints:\n",
    "    if k not in set_ints:\n",
    "        set_ints.append(k)"
   ]
  },
  {
   "cell_type": "code",
   "execution_count": 5,
   "metadata": {},
   "outputs": [
    {
     "name": "stdout",
     "output_type": "stream",
     "text": [
      "The distinct numbers are:  [5]\n"
     ]
    }
   ],
   "source": [
    "# Print out the distinct list of intergers\n",
    "print('The distinct numbers are: ', set_ints)"
   ]
  },
  {
   "cell_type": "markdown",
   "metadata": {},
   "source": [
    "# Problem 10.9 (Statistics: compute deviation)\n",
    "Exercise 5.46 computes the standard deviation of numbers.\n",
    "This exercise uses a different but equivalent formula to compute the standard deviation of n numbers.\n",
    "Write a test program that prompts the user to enter a list of numbers and displays the mean and standard deviation."
   ]
  },
  {
   "cell_type": "code",
   "execution_count": null,
   "metadata": {},
   "outputs": [],
   "source": [
    "list_values = [float(k) for k in input('Enter numbers: ').split()]\n",
    "list_values"
   ]
  },
  {
   "cell_type": "code",
   "execution_count": null,
   "metadata": {},
   "outputs": [],
   "source": [
    "# Function computes the mean of a list\n",
    "def mean(list_values):\n",
    "    return sum(list_values) / len(list_values)\n",
    "\n",
    "# Function computes the standard deviation: of a list\n",
    "def deviation(list_values):\n",
    "    mean_value = mean(list_values)\n",
    "    squared_errors = [(value - mean_value) ** 2 for value in list_values]\n",
    "    return (sum(squared_errors) / (len(squared_errors) - 1))**(.5)"
   ]
  },
  {
   "cell_type": "code",
   "execution_count": null,
   "metadata": {},
   "outputs": [],
   "source": [
    "\n",
    "print(round(mean(list_values), 5))\n",
    "print(round(deviation(list_values), 5))"
   ]
  },
  {
   "cell_type": "markdown",
   "metadata": {},
   "source": [
    "# 11.4 (Compute the weekly hours for each employee) \n",
    "Suppose the weekly hours for all\n",
    "employees are stored in a table. Each row records an employee’s seven-day work\n",
    "hours with seven columns. For example, the following table stores the work hours\n",
    "for eight employees. Write a program that displays employees and their total hours\n",
    "in decreasing order of the total hours.\n",
    "Su M T W Th F Sa\n",
    "Employee 0 2 4 3 4 5 8 8\n",
    "Employee 1 7 3 4 3 3 4 4\n",
    "Employee 2 3 3 4 3 3 2 2\n",
    "Employee 3 9 3 4 7 3 4 1\n",
    "Employee 4 3 5 4 3 6 3 8\n",
    "Employee 5 3 4 4 6 3 4 4\n",
    "Employee 6 3 7 4 8 3 8 4"
   ]
  },
  {
   "cell_type": "code",
   "execution_count": null,
   "metadata": {},
   "outputs": [],
   "source": [
    "size = [int(k) for k in input('Enter the size (rows x columns) of the matrix: ').split()]\n",
    "matrix = []\n",
    "\n",
    "# Input the matrix\n",
    "for k in range(size[0]):\n",
    "    prompt_string = 'Enter a {}-by-{} matrix row for row {}: '.format(size[0], size[1], k)\n",
    "    row = [float(f) for f in input(prompt_string).split()]\n",
    "    matrix.append(row)"
   ]
  },
  {
   "cell_type": "code",
   "execution_count": null,
   "metadata": {},
   "outputs": [],
   "source": [
    "def sumColumn(m, columnIndex):\n",
    "    computed_column = [m[row][columnIndex] for row in range(len(m))]\n",
    "    return sum(computed_column)"
   ]
  },
  {
   "cell_type": "code",
   "execution_count": null,
   "metadata": {},
   "outputs": [],
   "source": [
    "columnIndex = 0\n",
    "print('Sum of the elements for column {} is 16.5'.format(columnIndex, sumColumn(matrix, columnIndex)))"
   ]
  },
  {
   "cell_type": "markdown",
   "metadata": {},
   "source": [
    "# 11.2 (Sum the major diagonal in a matrix)\n",
    "Write a function that sums all the numbers of the major diagonal in an n * n matrix of integers using the following header:\n",
    "def sumMajorDiagonal(m):"
   ]
  },
  {
   "cell_type": "code",
   "execution_count": null,
   "metadata": {},
   "outputs": [],
   "source": [
    "\n",
    "size = int(input('Enter the size of a squared matrix: '))\n",
    "matrix = []\n",
    "\n",
    "# Input the matrix\n",
    "for k in range(size):\n",
    "    prompt_string = 'Enter a {}-by-{} matrix row for row {}: '.format(size, size, k)\n",
    "    row = [float(f) for f in input(prompt_string).split()]\n",
    "    matrix.append(row)"
   ]
  },
  {
   "cell_type": "code",
   "execution_count": null,
   "metadata": {},
   "outputs": [],
   "source": [
    "matrix"
   ]
  },
  {
   "cell_type": "code",
   "execution_count": null,
   "metadata": {},
   "outputs": [],
   "source": [
    "def sumMajorDiagonal(m):\n",
    "    diagonal_list = [m[k][k] for k in range(len(m))]\n",
    "    return sum(diagonal_list)"
   ]
  },
  {
   "cell_type": "code",
   "execution_count": null,
   "metadata": {},
   "outputs": [],
   "source": [
    "sumMajorDiagonal(matrix)"
   ]
  },
  {
   "cell_type": "markdown",
   "metadata": {},
   "source": [
    "# Problem 11.4 (Compute the weekly hours for each employee)\n",
    "Suppose the weekly hours for all employees are stored in a table.\n",
    "Each row records an employee’s seven-day work hours with seven columns.\n",
    "For example, the following table stores the work hours for eight employees.\n",
    "Write a program that displays employees and their total hours in decreasing order of the total hours."
   ]
  },
  {
   "cell_type": "code",
   "execution_count": null,
   "metadata": {},
   "outputs": [],
   "source": [
    "\n",
    "size = int(input('Enter the number of employees: '))\n",
    "matrix = []\n",
    "\n",
    "# Input the matrix\n",
    "for k in range(size):\n",
    "    prompt_string = 'Enter number of hours from Sunday through Saturday that employee {} works: '.format(k)\n",
    "    row = [float(f) for f in input(prompt_string).split()]\n",
    "    matrix.append(row)"
   ]
  },
  {
   "cell_type": "code",
   "execution_count": null,
   "metadata": {},
   "outputs": [],
   "source": [
    "matrix"
   ]
  },
  {
   "cell_type": "code",
   "execution_count": null,
   "metadata": {},
   "outputs": [],
   "source": [
    "def sum_weekly_"
   ]
  }
 ],
 "metadata": {
  "kernelspec": {
   "display_name": "Python 3",
   "language": "python",
   "name": "python3"
  },
  "language_info": {
   "codemirror_mode": {
    "name": "ipython",
    "version": 3
   },
   "file_extension": ".py",
   "mimetype": "text/x-python",
   "name": "python",
   "nbconvert_exporter": "python",
   "pygments_lexer": "ipython3",
   "version": "3.7.6"
  }
 },
 "nbformat": 4,
 "nbformat_minor": 4
}
