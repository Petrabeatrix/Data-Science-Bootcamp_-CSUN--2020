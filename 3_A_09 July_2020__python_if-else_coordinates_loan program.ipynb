{
 "cells": [
  {
   "cell_type": "code",
   "execution_count": null,
   "metadata": {},
   "outputs": [],
   "source": [
    "## Problem 4.31 Geometry: point position\n",
    "Given a directed line from point p0(x0, y0) to p1(x1, y1), you can use the \n",
    "following condition to decide whether a point p2(x2, y2) is on the left side of \n",
    "the line, on the right side of the line, or on the same line (see Figure 4.12):"
   ]
  },
  {
   "cell_type": "code",
   "execution_count": 3,
   "metadata": {},
   "outputs": [
    {
     "name": "stdout",
     "output_type": "stream",
     "text": [
      "Enter coordinates for the three points p0, p1, and p2:3.4, 2, 6.5, 9.5, -5, 4\n",
      "p2 is on the left side of the line\n"
     ]
    }
   ],
   "source": [
    "# this version works\n",
    "import math\n",
    "\n",
    "x0, y0, x1, y1, x2, y2 = eval(input('Enter coordinates for the three points p0, p1, and p2:'))\n",
    "\n",
    "dx_10 = x1 - x0\n",
    "dx_20 = x2 - x0\n",
    "dy_10 = y1 - y0\n",
    "dy_20 = y2 - y0\n",
    "delta = dx_10 * dy_20 - dx_20 * dy_10\n",
    "\n",
    "if delta > 0:\n",
    "    print('p2 is on the left side of the line')\n",
    "elif delta == 0:\n",
    "    print('p2 is on the same side of the line')\n",
    "else:\n",
    "    print('p2 is on the right side of the line')"
   ]
  },
  {
   "cell_type": "code",
   "execution_count": 4,
   "metadata": {},
   "outputs": [
    {
     "name": "stdout",
     "output_type": "stream",
     "text": [
      "Enter coordinates for the three points p0, p1, and p2:3.4, 2, 6.5, 9.5, -5, 4\n",
      "p2 is on the left side of the line\n"
     ]
    }
   ],
   "source": [
    "#this one works now too\n",
    "\n",
    "x0, y0, x1, y1, x2, y2 = eval(input('Enter coordinates for the three points p0, p1, and p2:'))\n",
    "\n",
    "dx_10 = x1 - x0\n",
    "dx_20 = x2 - x0\n",
    "dy_10 = y1 - y0\n",
    "dy_20 = y2 - y0\n",
    "delta = dx_10 * dy_20 - dx_20 * dy_10\n",
    "\n",
    "if delta > 0:\n",
    "    print('p2 is on the left side of the line')\n",
    "elif delta == 0:\n",
    "    print('p2 is on the same side of the line')\n",
    "else:\n",
    "    print('p2 is on the right side of the line')"
   ]
  },
  {
   "cell_type": "code",
   "execution_count": null,
   "metadata": {},
   "outputs": [],
   "source": [
    "# Problem 5.24 Loan Payments\n",
    "\n",
    "Write a program that lets the user enter the loan amount, number of years, and intrest rate, an then displaye \n",
    "the amortization for the loan.\n"
   ]
  },
  {
   "cell_type": "code",
   "execution_count": 4,
   "metadata": {},
   "outputs": [
    {
     "name": "stdout",
     "output_type": "stream",
     "text": [
      "Loan Amount: 200\n",
      "Number of Years: 2\n",
      "Annual Interest Rate: 2\n",
      "0.0016666666666666668\n",
      "2.110425330085847e-67\n"
     ]
    }
   ],
   "source": [
    "# create input options\n",
    "balance = eval (input('Loan Amount: '))\n",
    "numberOfYears = eval(input('Number of Years: '))\n",
    "annualInterestRate = eval(input('Annual Interest Rate: '))\n",
    "\n",
    "\n",
    "monthlyInterestRate = annualInterestRate /100 /12\n",
    "numberOfMonths = 12 * numberOfYears\n",
    "print(monthlyInterestRate)\n",
    "print(monthlyInterestRate ** numberOfMonths)\n",
    "\n"
   ]
  },
  {
   "cell_type": "code",
   "execution_count": 16,
   "metadata": {
    "scrolled": true
   },
   "outputs": [
    {
     "name": "stdout",
     "output_type": "stream",
     "text": [
      "Payment # \t Interest \t Principle \t Balance\n",
      "1 \t\t 0.0 \t\t 0.0 \t 0.02\n",
      "2 \t\t 0.0 \t\t 0.0 \t 0.02\n",
      "3 \t\t 0.0 \t\t 0.0 \t 0.02\n",
      "4 \t\t 0.0 \t\t 0.0 \t 0.02\n",
      "5 \t\t 0.0 \t\t 0.0 \t 0.02\n",
      "6 \t\t 0.0 \t\t 0.0 \t 0.02\n",
      "7 \t\t 0.0 \t\t 0.0 \t 0.01\n",
      "8 \t\t 0.0 \t\t 0.0 \t 0.01\n",
      "9 \t\t 0.0 \t\t 0.0 \t 0.01\n",
      "10 \t\t 0.0 \t\t 0.0 \t 0.01\n",
      "11 \t\t 0.0 \t\t 0.0 \t 0.01\n",
      "12 \t\t 0.0 \t\t 0.0 \t 0.01\n",
      "13 \t\t 0.0 \t\t 0.0 \t 0.01\n",
      "14 \t\t 0.0 \t\t 0.0 \t 0.01\n",
      "15 \t\t 0.0 \t\t 0.0 \t 0.01\n",
      "16 \t\t 0.0 \t\t 0.0 \t 0.01\n",
      "17 \t\t 0.0 \t\t 0.0 \t 0.01\n",
      "18 \t\t 0.0 \t\t 0.0 \t 0.01\n",
      "19 \t\t 0.0 \t\t 0.0 \t 0.01\n",
      "20 \t\t 0.0 \t\t 0.0 \t 0.01\n",
      "21 \t\t 0.0 \t\t 0.0 \t 0.01\n",
      "22 \t\t 0.0 \t\t 0.0 \t 0.01\n",
      "23 \t\t 0.0 \t\t 0.0 \t 0.01\n",
      "24 \t\t 0.0 \t\t 0.0 \t 0.01\n"
     ]
    }
   ],
   "source": [
    "# print table TUAN version\n",
    "\n",
    "print('Payment #', \"\\t\", 'Interest', \"\\t\", 'Principle', \"\\t\", 'Balance')\n",
    "for i in range(numberOfMonths): \n",
    "  interest = monthlyInterestRate * balance\n",
    "  monthlyPayment = (balance * monthlyInterestRate) / (1 - ((1 + monthlyInterestRate) ** numberOfMonths) ** (-1))\n",
    "  principal = monthlyPayment - interest \n",
    "  balance = balance - principal\n",
    "  print(i + 1, \"\\t\\t\", round(interest, 2), \"\\t\\t\", round(principal, 2), \"\\t\", round(balance, 2))"
   ]
  },
  {
   "cell_type": "code",
   "execution_count": 21,
   "metadata": {
    "scrolled": true
   },
   "outputs": [
    {
     "name": "stdout",
     "output_type": "stream",
     "text": [
      "Payment #  \t Interest \t Principle,  \t Balance\n",
      "1 \t\t 0.0 \t\t 0.0 \t 0.01\n",
      "2 \t\t 0.0 \t\t 0.0 \t 0.01\n",
      "3 \t\t 0.0 \t\t 0.0 \t 0.01\n",
      "4 \t\t 0.0 \t\t 0.0 \t 0.01\n",
      "5 \t\t 0.0 \t\t 0.0 \t 0.01\n",
      "6 \t\t 0.0 \t\t 0.0 \t 0.01\n",
      "7 \t\t 0.0 \t\t 0.0 \t 0.01\n",
      "8 \t\t 0.0 \t\t 0.0 \t 0.0\n",
      "9 \t\t 0.0 \t\t 0.0 \t 0.0\n",
      "10 \t\t 0.0 \t\t 0.0 \t 0.0\n",
      "11 \t\t 0.0 \t\t 0.0 \t 0.0\n",
      "12 \t\t 0.0 \t\t 0.0 \t 0.0\n",
      "13 \t\t 0.0 \t\t 0.0 \t 0.0\n",
      "14 \t\t 0.0 \t\t 0.0 \t 0.0\n",
      "15 \t\t 0.0 \t\t 0.0 \t 0.0\n",
      "16 \t\t 0.0 \t\t 0.0 \t 0.0\n",
      "17 \t\t 0.0 \t\t 0.0 \t 0.0\n",
      "18 \t\t 0.0 \t\t 0.0 \t 0.0\n",
      "19 \t\t 0.0 \t\t 0.0 \t 0.0\n",
      "20 \t\t 0.0 \t\t 0.0 \t 0.0\n",
      "21 \t\t 0.0 \t\t 0.0 \t 0.0\n",
      "22 \t\t 0.0 \t\t 0.0 \t 0.0\n",
      "23 \t\t 0.0 \t\t 0.0 \t 0.0\n",
      "24 \t\t 0.0 \t\t 0.0 \t -0.0\n"
     ]
    }
   ],
   "source": [
    "# Problem 5.24 ME\n",
    "\n",
    "print('Payment # ', \"\\t\", 'Interest', '\\t', 'Principle, ', '\\t', 'Balance')\n",
    "\n",
    "\n",
    "for i in range (numberOfMonths):\n",
    "    interest = monthlyInterestRate * balance\n",
    "    principle = monthlyPayment - interest\n",
    "    balance = balance - principle\n",
    "    print(i + 1, \"\\t\\t\", round(interest, 2), \"\\t\\t\", round(principal, 2), \"\\t\", round(balance, 2))"
   ]
  }
 ],
 "metadata": {
  "kernelspec": {
   "display_name": "Python 3",
   "language": "python",
   "name": "python3"
  },
  "language_info": {
   "codemirror_mode": {
    "name": "ipython",
    "version": 3
   },
   "file_extension": ".py",
   "mimetype": "text/x-python",
   "name": "python",
   "nbconvert_exporter": "python",
   "pygments_lexer": "ipython3",
   "version": "3.7.6"
  }
 },
 "nbformat": 4,
 "nbformat_minor": 4
}
