{
 "cells": [
  {
   "cell_type": "markdown",
   "metadata": {},
   "source": [
    "# MyVersion"
   ]
  },
  {
   "cell_type": "code",
   "execution_count": 1,
   "metadata": {},
   "outputs": [],
   "source": [
    "import pandas as pd\n",
    "import numpy as np\n",
    "import matplotlib.pyplot as plt\n",
    "from scipy.stats import linregress"
   ]
  },
  {
   "cell_type": "code",
   "execution_count": 73,
   "metadata": {},
   "outputs": [
    {
     "data": {
      "text/html": [
       "<div>\n",
       "<style scoped>\n",
       "    .dataframe tbody tr th:only-of-type {\n",
       "        vertical-align: middle;\n",
       "    }\n",
       "\n",
       "    .dataframe tbody tr th {\n",
       "        vertical-align: top;\n",
       "    }\n",
       "\n",
       "    .dataframe thead th {\n",
       "        text-align: right;\n",
       "    }\n",
       "</style>\n",
       "<table border=\"1\" class=\"dataframe\">\n",
       "  <thead>\n",
       "    <tr style=\"text-align: right;\">\n",
       "      <th></th>\n",
       "      <th>x1</th>\n",
       "      <th>y1</th>\n",
       "      <th>x2</th>\n",
       "      <th>y2</th>\n",
       "      <th>x3</th>\n",
       "      <th>y3</th>\n",
       "      <th>x4</th>\n",
       "      <th>y4</th>\n",
       "    </tr>\n",
       "  </thead>\n",
       "  <tbody>\n",
       "    <tr>\n",
       "      <th>0</th>\n",
       "      <td>10</td>\n",
       "      <td>8.04</td>\n",
       "      <td>10</td>\n",
       "      <td>9.14</td>\n",
       "      <td>10</td>\n",
       "      <td>7.46</td>\n",
       "      <td>8</td>\n",
       "      <td>6.58</td>\n",
       "    </tr>\n",
       "    <tr>\n",
       "      <th>1</th>\n",
       "      <td>8</td>\n",
       "      <td>6.95</td>\n",
       "      <td>8</td>\n",
       "      <td>8.14</td>\n",
       "      <td>8</td>\n",
       "      <td>6.77</td>\n",
       "      <td>8</td>\n",
       "      <td>5.76</td>\n",
       "    </tr>\n",
       "    <tr>\n",
       "      <th>2</th>\n",
       "      <td>13</td>\n",
       "      <td>7.58</td>\n",
       "      <td>13</td>\n",
       "      <td>8.74</td>\n",
       "      <td>13</td>\n",
       "      <td>12.74</td>\n",
       "      <td>8</td>\n",
       "      <td>7.71</td>\n",
       "    </tr>\n",
       "    <tr>\n",
       "      <th>3</th>\n",
       "      <td>9</td>\n",
       "      <td>8.81</td>\n",
       "      <td>9</td>\n",
       "      <td>8.77</td>\n",
       "      <td>9</td>\n",
       "      <td>7.11</td>\n",
       "      <td>8</td>\n",
       "      <td>8.84</td>\n",
       "    </tr>\n",
       "    <tr>\n",
       "      <th>4</th>\n",
       "      <td>11</td>\n",
       "      <td>8.33</td>\n",
       "      <td>11</td>\n",
       "      <td>9.26</td>\n",
       "      <td>11</td>\n",
       "      <td>7.81</td>\n",
       "      <td>8</td>\n",
       "      <td>8.47</td>\n",
       "    </tr>\n",
       "  </tbody>\n",
       "</table>\n",
       "</div>"
      ],
      "text/plain": [
       "   x1    y1  x2    y2  x3     y3  x4    y4\n",
       "0  10  8.04  10  9.14  10   7.46   8  6.58\n",
       "1   8  6.95   8  8.14   8   6.77   8  5.76\n",
       "2  13  7.58  13  8.74  13  12.74   8  7.71\n",
       "3   9  8.81   9  8.77   9   7.11   8  8.84\n",
       "4  11  8.33  11  9.26  11   7.81   8  8.47"
      ]
     },
     "execution_count": 73,
     "metadata": {},
     "output_type": "execute_result"
    }
   ],
   "source": [
    "data = pd.read_csv(\"AnscombesQuartet.csv\")\n",
    "data.head()"
   ]
  },
  {
   "cell_type": "code",
   "execution_count": 76,
   "metadata": {
    "scrolled": true
   },
   "outputs": [
    {
     "data": {
      "text/plain": [
       "LinregressResult(slope=0.4999090909090909, intercept=3.0017272727272726, rvalue=0.8165214368885028, pvalue=0.002164602347197222, stderr=0.11781894172968553)"
      ]
     },
     "execution_count": 76,
     "metadata": {},
     "output_type": "execute_result"
    },
    {
     "data": {
      "image/png": "[encoded data removed]",
      "text/plain": [
       "<Figure size 864x576 with 4 Axes>"
      ]
     },
     "metadata": {
      "needs_background": "light"
     },
     "output_type": "display_data"
    }
   ],
   "source": [
    "data = pd.read_csv(\"AnscombesQuartet.csv\")\n",
    "data.head()\n",
    "\n",
    "# Create array of each data value\n",
    "x1 = np.array(data['x1'])\n",
    "y1 = np.array(data['y1'])\n",
    "x2 = np.array(data['x2'])\n",
    "y2 = np.array(data['y2'])\n",
    "x3 = np.array(data['x3'])\n",
    "y3 = np.array(data['y3'])\n",
    "x4 = np.array(data['x4'])\n",
    "y4 = np.array(data['y4'])\n",
    "\n",
    "# Create figure for subplots\n",
    "fig, axs=plt.subplots(ncols=2, nrows=2, sharey = True)\n",
    "fig.set_size_inches(12,8)\n",
    "\n",
    "# Perform linear regression on x1 and y1 \n",
    "axs[0][0].scatter(x1,y1)\n",
    "axs[0][0].plot([3,14], [lin1[1] + lin1[0]*3, lin1[1] + lin1[0]*14], color = 'red')\n",
    "axs[0][0].set_title('x1,y1')\n",
    "\n",
    "axs[0][1].scatter(x2,y2)\n",
    "axs[0][1].plot([3,14], [lin2[1] + lin2[0]*3, lin2[1] + lin2[0]*14], color = 'red')\n",
    "axs[0][1].set_title('x2, y2')\n",
    "\n",
    "\n",
    "axs[1][0].scatter(x3,y3)\n",
    "axs[1][0].plot([3,15], [lin3[1] + lin3[0]*3, lin3[1] + lin3[0]*14], color = 'red')\n",
    "#axs[1][0].set_title('x3, y3')\n",
    "\n",
    "axs[1][1].scatter(x4,y4)\n",
    "axs[1][1].plot([7,20], [lin4[1] + lin4[0]*3, lin4[1] + lin4[0]*14], color = 'red')              \n",
    "axs[1][1].set_title('x4, y4')\n",
    "\n",
    "\n",
    "lin1 = sci.stats.linregress(x1,y1)\n",
    "lin2 = sci.stats.linregress(x2,y2)\n",
    "lin3 = sci.stats.linregress(x3,y3)\n",
    "lin4 = sci.stats.linregress(x4,y4)\n",
    "\n",
    "lin1\n",
    "lin2\n",
    "lin3\n",
    "lin4"
   ]
  },
  {
   "cell_type": "markdown",
   "metadata": {},
   "source": [
    "# Conclusion\n",
    "Although 4 data set of pairs can be described by an identical linear regression, they have different distributions.\n",
    "The the data in first quarter (top left) my be best described by the model among the quartet.\n",
    "The the data in second quarter (top right) my be best charaterized by a polynomial regression model.\n",
    "The bottom two models become influenced by outliners.\n",
    "\n",
    "##  The regression itself cannot tell all about the dataset. "
   ]
  },
  {
   "cell_type": "code",
   "execution_count": 54,
   "metadata": {},
   "outputs": [
    {
     "data": {
      "image/png": "[encoded data removed]",
      "text/plain": [
       "<Figure size 864x576 with 4 Axes>"
      ]
     },
     "metadata": {
      "needs_background": "light"
     },
     "output_type": "display_data"
    }
   ],
   "source": [
    "import pandas as pd\n",
    "import numpy as np\n",
    "import matplotlib.pyplot as plt\n",
    "from scipy.stats import linregress \n",
    "\n",
    "data = pd.read_csv(\"AnscombesQuartet.csv\")\n",
    "\n",
    "# Create figure for subplots\n",
    "fig, ax = plt.subplots(nrows=2,ncols=2, sharey = True)\n",
    "fig.set_size_inches(12,8)\n",
    "\n",
    "# Perform linear regression on x1 and y1 \n",
    "# Create an array of x1,y2\n",
    "x1 = np.array(data['x1'])\n",
    "y1 = np.array(data['y1'])\n",
    "\n",
    "slope1, intercept1, r_value1, p_value1, std_err1 = linregress(x1,y1)\n",
    "\n",
    "y1 =  intercept1 + slope1*x1\n",
    "\n",
    "ax[0,0].scatter(x1,y1)\n",
    "ax[0,0].plot(x1,y1, color=\"red\")\n",
    "ax[0,0].set_xlim(3, 20)\n",
    "ax[0,0].set_ylim(3, 15)\n",
    "ax[0,0].set_title('Set 1')\n",
    "ax[0,0].grid()\n",
    "\n",
    "# Perform linear regression on x2 and y2\n",
    "x2 = np.array(data['x2'])\n",
    "y2 = np.array(data['y2'])\n",
    "\n",
    "slope2, intercept2, r_value2, p_value2, std_err2 = linregress(x2,y2)\n",
    "\n",
    "ax[0,1].scatter(x2,y2)\n",
    "ax[0,1].plot(x2,intercept2 + slope2*x2, color=\"red\")\n",
    "ax[0,1].set_xlim(3, 20)\n",
    "ax[0,1].set_ylim(3, 15)\n",
    "ax[0,1].set_title('Set 2')\n",
    "ax[0,1].grid()\n",
    "\n",
    "# Perform linear regression on x3 and y3\n",
    "x3 = np.array(data['x3'])\n",
    "y3 = np.array(data['y3'])\n",
    "\n",
    "slope3, intercept3, r_value3, p_value3, std_err3 = linregress(x3,y3)\n",
    "\n",
    "ax[1,0].scatter(x3,y3)\n",
    "ax[1,0].plot(x3, intercept3 + slope3*x3, color=\"red\")\n",
    "ax[1,0].set_xlim(3, 20)\n",
    "ax[1,0].set_ylim(3, 15)\n",
    "ax[1,0].set_title('Set 3')\n",
    "ax[1,0].grid()\n",
    "\n",
    "# Perform linear regression on x3 and y3\n",
    "x4 = np.array(data['x4'])\n",
    "y4 = np.array(data['y4'])\n",
    "\n",
    "slope4, intercept4, r_value4, p_value4, std_err4 = linregress(x4,y4)\n",
    "\n",
    "ax[1,1].scatter(x4,y4)\n",
    "ax[1,1].plot(x4, intercept4 + slope4*x4, color=\"red\")\n",
    "ax[1,1].set_xlim(3, 20)\n",
    "ax[1,1].set_ylim(3, 15)\n",
    "ax[1,1].set_title('Set 4')\n",
    "ax[1,1].grid()\n",
    "\n",
    "# Show plot\n",
    "plt.show()"
   ]
  },
  {
   "cell_type": "markdown",
   "metadata": {},
   "source": [
    "Kyle version"
   ]
  },
  {
   "cell_type": "code",
   "execution_count": 29,
   "metadata": {},
   "outputs": [
    {
     "data": {
      "image/png": "[encoded data removed]",
      "text/plain": [
       "<Figure size 864x576 with 4 Axes>"
      ]
     },
     "metadata": {
      "needs_background": "light"
     },
     "output_type": "display_data"
    }
   ],
   "source": [
    "# Perform a linear regression on each data set in AnscombesQuartet.csv\n",
    "import numpy as np\n",
    "import pandas as pd\n",
    "import matplotlib.pyplot as plt\n",
    "from scipy.stats import linregress\n",
    "\n",
    "# Load in csv as a data frame\n",
    "data = pd.read_csv(\"AnscombesQuartet.csv\")\n",
    "\n",
    "# Create figure for subplots\n",
    "fig, ax = plt.subplots(nrows=2,ncols=2)\n",
    "fig.set_size_inches(12,8)\n",
    "\n",
    "# Perform linear regression on x1 and y1\n",
    "x1 = np.array(data['x1'])\n",
    "y1 = np.array(data['y1'])\n",
    "\n",
    "slope1, intercept1, r_value1, p_value1, std_err1 = linregress(x1,y1)\n",
    "\n",
    "ax[0,0].scatter(x1,y1)\n",
    "ax[0,0].plot(x1, intercept1 + slope1*x1, color=\"red\")\n",
    "ax[0,0].set_xlim(3, 20)\n",
    "ax[0,0].set_ylim(3, 15)\n",
    "ax[0,0].set_title('Set 1')\n",
    "\n",
    "# Perform linear regression on x2 and y2\n",
    "x2 = np.array(data['x2'])\n",
    "y2 = np.array(data['y2'])\n",
    "\n",
    "slope2, intercept2, r_value2, p_value2, std_err2 = linregress(x2,y2)\n",
    "\n",
    "ax[0,1].scatter(x2,y2)\n",
    "ax[0,1].plot(x2,intercept2 + slope2*x2, color=\"red\")\n",
    "ax[0,1].set_xlim(3, 20)\n",
    "ax[0,1].set_ylim(3, 15)\n",
    "ax[0,1].set_title('Set 2')\n",
    "\n",
    "# Perform linear regression on x3 and y3\n",
    "x3 = np.array(data['x3'])\n",
    "y3 = np.array(data['y3'])\n",
    "\n",
    "slope3, intercept3, r_value3, p_value3, std_err3 = linregress(x3,y3)\n",
    "\n",
    "ax[1,0].scatter(x3,y3)\n",
    "ax[1,0].plot(x3, intercept3 + slope3*x3, color=\"red\")\n",
    "ax[1,0].set_xlim(3, 20)\n",
    "ax[1,0].set_ylim(3, 15)\n",
    "ax[1,0].set_title('Set 3')\n",
    "\n",
    "# Perform linear regression on x3 and y3\n",
    "x4 = np.array(data['x4'])\n",
    "y4 = np.array(data['y4'])\n",
    "\n",
    "slope4, intercept4, r_value4, p_value4, std_err4 = linregress(x4,y4)\n",
    "\n",
    "ax[1,1].scatter(x4,y4)\n",
    "ax[1,1].plot(x4, intercept4 + slope4*x4, color=\"red\")\n",
    "ax[1,1].set_xlim(3, 20)\n",
    "ax[1,1].set_ylim(3, 15)\n",
    "ax[1,1].set_title('Set 4')\n",
    "\n",
    "# Show plot\n",
    "plt.show()"
   ]
  },
  {
   "cell_type": "markdown",
   "metadata": {},
   "source": [
    "In Anscombe's Quartet it seems that each data set has the same linear regression line. \n",
    "For the first data set linear regression seems to be very applicable.\n",
    "The second data set seems like a linear regression would not be the best for the data set, since a polynomial regression would be a perfect fit.\n",
    "The linear regression line for the third dataset seems significantly skewed by an outlier.\n",
    "The last data set is another instance of an outlier holding significant control over the results, and since the outlier is extremely removed from the rest of the data, an algorithm that would skip over the outlier or weight it with less signifigance would be better."
   ]
  },
  {
   "cell_type": "markdown",
   "metadata": {},
   "source": [
    "# Tuan Version"
   ]
  },
  {
   "cell_type": "markdown",
   "metadata": {},
   "source": [
    "# Linear Regression\n",
    "The file AnscombesQuartet.csv contains four data sets.\n",
    "Each set consists of 12 (x, y) pairs.\n",
    "Perform a linear regression on each data set, finding the slope and y-intercept for y1 as a function of x1;\n",
    "for y2 as a function of x2; for y3 as a function x3; and for y4 as a function of x4.\n",
    "\n",
    "For each data set, plot the 12 points as a scatter plot, and on the same plot, plot the line of linear regression, so that you can clearly see both the line and the markers.\n",
    "\n",
    "Round the slope and intercept to three significant figures and compare and contrast the results.\n",
    "What do you conclude and (a) linear regression; and (b) its applicability to this data set?\n",
    "(For comparison, the correct answers and plot can be found on the Wikipedia page for Anscombe’s Quartet.\n",
    "Try calculating the results and making the plot before you look up the Wikipedia page.)"
   ]
  },
  {
   "cell_type": "code",
   "execution_count": 34,
   "metadata": {},
   "outputs": [],
   "source": [
    "import pandas as pd\n",
    "import matplotlib.pyplot as plt\n",
    "import numpy as np\n",
    "%matplotlib inline\n",
    "\n",
    "df = pd.read_csv('AnscombesQuartet.csv')"
   ]
  },
  {
   "cell_type": "code",
   "execution_count": 35,
   "metadata": {},
   "outputs": [
    {
     "name": "stdout",
     "output_type": "stream",
     "text": [
      "    x1     y1  x2    y2  x3     y3  x4     y4\n",
      "0   10   8.04  10  9.14  10   7.46   8   6.58\n",
      "1    8   6.95   8  8.14   8   6.77   8   5.76\n",
      "2   13   7.58  13  8.74  13  12.74   8   7.71\n",
      "3    9   8.81   9  8.77   9   7.11   8   8.84\n",
      "4   11   8.33  11  9.26  11   7.81   8   8.47\n",
      "5   14   9.96  14  8.10  14   8.84   8   7.04\n",
      "6    6   7.24   6  6.13   6   6.08   8   5.25\n",
      "7    4   4.26   4  3.10   4   5.39  19  12.50\n",
      "8   12  10.84  12  9.13  12   8.15   8   5.56\n",
      "9    7   4.82   7  7.26   7   6.42   8   7.91\n",
      "10   5   5.68   5  4.74   5   5.73   8   6.89\n"
     ]
    }
   ],
   "source": [
    "\n",
    "print(df)"
   ]
  },
  {
   "cell_type": "markdown",
   "metadata": {},
   "source": [
    "# Approach 1: Model linear regression using linear algebra"
   ]
  },
  {
   "cell_type": "code",
   "execution_count": 37,
   "metadata": {},
   "outputs": [
    {
     "name": "stdout",
     "output_type": "stream",
     "text": [
      "intercept by linear algrebra =  3.000090909090922\n",
      "slope by linear algebra     =  0.500090909090908\n"
     ]
    }
   ],
   "source": [
    "\"\"\" Linear regression model using linear algrebra notation\n",
    "    Return a tuple (intercept, slope) of the linear approximation for the underlying data\n",
    "    x, y: numpy arrays of x-coordinate and y-coordinate\n",
    "\"\"\"\n",
    "def linear_regression_algrebra(x, y): \n",
    "    X, Y = sum(x), sum(y) \n",
    "    A, C = sum(x * x), sum(x * y) \n",
    "    n    = len(x) \n",
    "    Del  = n * A - X * X \n",
    "    \n",
    "    if Del == 0:\n",
    "        print(\"System is singular!\")\n",
    "        return (0, 0) \n",
    "    \n",
    "    a = (A * Y - X * C) / Del \n",
    "    b = (n * C - X * Y) / Del\n",
    "    return (a, b)\n",
    "\n",
    "x, y = np.array(df.x1), np.array(df.y1)\n",
    "\n",
    "intercept_al, slope_al = linear_regression_algrebra(x, y)\n",
    "print('intercept by linear algrebra = ', intercept_al)\n",
    "print('slope by linear algebra     = ', slope_al)"
   ]
  },
  {
   "cell_type": "markdown",
   "metadata": {},
   "source": [
    "# Approach 2: Model linear regression using statistical method"
   ]
  },
  {
   "cell_type": "code",
   "execution_count": 38,
   "metadata": {},
   "outputs": [
    {
     "name": "stdout",
     "output_type": "stream",
     "text": [
      "intercept by statistical method =  3.0000909090909103\n",
      "slope by statistical method     =  0.5000909090909091\n"
     ]
    }
   ],
   "source": [
    "\n",
    "\"\"\" Linear regression model using statistical notation\n",
    "    Return a tuple (intercept, slope) of the linear approximation for the underlying data\n",
    "    x, y: numpy arrays of x-coordinate and y-coordinate\n",
    "\"\"\"\n",
    "def linear_regression_stat(x, y): \n",
    "    mux, muy = np.mean(x), np.mean(y)\n",
    "    sx, sy   = np.std(x, ddof=1), np.std(y, ddof=1)\n",
    "    r        = np.corrcoef(x,y)[1, 0]\n",
    "    b        = r * sy / sx\n",
    "    a        = muy - b * mux\n",
    "    \n",
    "    return (a, b)\n",
    "\n",
    "intercept_st, slope_st = linear_regression_stat(x, y)\n",
    "print('intercept by statistical method = ', intercept_st)\n",
    "print('slope by statistical method     = ', slope_st)"
   ]
  },
  {
   "cell_type": "markdown",
   "metadata": {},
   "source": [
    "# Approach 3: Model linear regresssion using built-in sckit-learn"
   ]
  },
  {
   "cell_type": "code",
   "execution_count": 39,
   "metadata": {},
   "outputs": [
    {
     "name": "stdout",
     "output_type": "stream",
     "text": [
      "intercept by scipy method =  3.0000909090909103\n",
      "slope by scipy method     =  0.5000909090909091\n"
     ]
    }
   ],
   "source": [
    "\"\"\" Linear regression model using scipy\n",
    "    Return a list of model params including [slope, intercept, ...]\n",
    "    x, y: numpy arrays of x-coordinate and y-coordinate\n",
    "\"\"\"\n",
    "from scipy.stats import linregress\n",
    "lr = linregress(x, y)\n",
    "print('intercept by scipy method = ', lr[1])\n",
    "print('slope by scipy method     = ', lr[0])"
   ]
  },
  {
   "cell_type": "markdown",
   "metadata": {},
   "source": [
    "# Approach 4: Model linear regression using built-in scikit-learn"
   ]
  },
  {
   "cell_type": "code",
   "execution_count": 42,
   "metadata": {},
   "outputs": [
    {
     "name": "stdout",
     "output_type": "stream",
     "text": [
      "intercept by LinearRegression function =  3.0000909090909103\n",
      "slope by LinearRegression function     =  0.5000909090909091\n"
     ]
    }
   ],
   "source": [
    "\"\"\" Linear regression model using scikit-learn\n",
    "    x: numpy array of x-coordinate with shape (n_samples, n_features) \n",
    "    y: numpy arrays of y-coordinate with shape (n_samples, ) or (n_samples, n_targets)\n",
    "\"\"\"\n",
    "from sklearn.linear_model import LinearRegression\n",
    "model = LinearRegression()\n",
    "X = x.reshape(-1, 1)\n",
    "model.fit(X, y)\n",
    "print('intercept by LinearRegression function = ', model.intercept_)\n",
    "print('slope by LinearRegression function     = ', model.coef_[0])"
   ]
  },
  {
   "cell_type": "markdown",
   "metadata": {},
   "source": [
    "# Plot and compare the Anscombes Quartet"
   ]
  },
  {
   "cell_type": "code",
   "execution_count": 43,
   "metadata": {},
   "outputs": [
    {
     "data": {
      "image/png": "[encoded data removed]",
      "text/plain": [
       "<Figure size 1152x576 with 4 Axes>"
      ]
     },
     "metadata": {
      "needs_background": "light"
     },
     "output_type": "display_data"
    }
   ],
   "source": [
    "# Index the columns of the dataframe\n",
    "df.columns = list(range(8))\n",
    "\n",
    "# Number of pair (x, y)\n",
    "n_pairs = len(df.columns) // 2\n",
    "\n",
    "# List contains the slopes anf intercepts of all models\n",
    "model_params = []\n",
    "\n",
    "# Set up subplots\n",
    "n_rows, n_cols = 2, n_pairs // 2\n",
    "colors = ['blue', 'orange', 'purple', 'green', 'red']\n",
    "fig, axes = plt.subplots(nrows=n_rows, ncols=n_cols)\n",
    "fig.set_size_inches(16, 8)\n",
    "\n",
    "# Draw the scatter plot and best-fit line\n",
    "for k in range(n_pairs):\n",
    "    # Process input data\n",
    "    X = np.array(df[2 * k]).reshape(-1, 1)\n",
    "    y = np.array(df[2 * k + 1])\n",
    "    \n",
    "    # Plot scatter\n",
    "    ax = axes[k // 2][k % 2]\n",
    "    ax.scatter(X, y, color=colors[k])\n",
    "    ax.set_xlim(min(X) - 1.5, max(X) + 1.5)\n",
    "    ax.grid()\n",
    "    ax.set_title('Model (x{}, y{})'.format(k + 1, k + 1))\n",
    "    \n",
    "    # Fit the linear regression model\n",
    "    model = LinearRegression()\n",
    "    model.fit(X, y)\n",
    "    \n",
    "    # Plot the best-fit line\n",
    "    model_params.append((model.coef_[0], model.intercept_))\n",
    "    X_b = np.array([min(X), max(X)])\n",
    "    y_b = X_b * model.coef_[0] + model.intercept_\n",
    "    ax.plot(X_b, y_b, color=colors[-1])\n",
    "    \n",
    "plt.show()"
   ]
  },
  {
   "cell_type": "markdown",
   "metadata": {},
   "source": [
    " # Print out the slope and intercept resulting from modeling each of the Anscombes Quartet"
   ]
  },
  {
   "cell_type": "code",
   "execution_count": 44,
   "metadata": {},
   "outputs": [
    {
     "name": "stdout",
     "output_type": "stream",
     "text": [
      "Model #1:\n",
      "\tslope = 0.500, and intercept = 3.000\n",
      "Model #2:\n",
      "\tslope = 0.500, and intercept = 3.001\n",
      "Model #3:\n",
      "\tslope = 0.500, and intercept = 3.002\n",
      "Model #4:\n",
      "\tslope = 0.500, and intercept = 3.002\n"
     ]
    }
   ],
   "source": [
    "for k, pair in enumerate(model_params):\n",
    "    print('Model #{}:'.format(k + 1))\n",
    "    print('\\tslope = {:.3f}, and intercept = {:.3f}'.format(pair[0], pair[1]))"
   ]
  },
  {
   "cell_type": "markdown",
   "metadata": {},
   "source": [
    "# Conclusion\n",
    "Although 4 data set of pairs can be described by an identical linear regression, they have different distributions.\n",
    "The the data in first quarter (top left) my be best described by the model among the quartet.\n",
    "The the data in second quarter (top right) my be best charaterized by a polynomial regression model.\n",
    "The bottom two models become influenced by outliners.\n",
    "\n",
    "##  The regression itself cannot tell all about the dataset. "
   ]
  },
  {
   "cell_type": "markdown",
   "metadata": {},
   "source": [
    "# Daniel version"
   ]
  },
  {
   "cell_type": "code",
   "execution_count": 46,
   "metadata": {},
   "outputs": [
    {
     "data": {
      "text/html": [
       "<div>\n",
       "<style scoped>\n",
       "    .dataframe tbody tr th:only-of-type {\n",
       "        vertical-align: middle;\n",
       "    }\n",
       "\n",
       "    .dataframe tbody tr th {\n",
       "        vertical-align: top;\n",
       "    }\n",
       "\n",
       "    .dataframe thead th {\n",
       "        text-align: right;\n",
       "    }\n",
       "</style>\n",
       "<table border=\"1\" class=\"dataframe\">\n",
       "  <thead>\n",
       "    <tr style=\"text-align: right;\">\n",
       "      <th></th>\n",
       "      <th>x1</th>\n",
       "      <th>y1</th>\n",
       "      <th>x2</th>\n",
       "      <th>y2</th>\n",
       "      <th>x3</th>\n",
       "      <th>y3</th>\n",
       "      <th>x4</th>\n",
       "      <th>y4</th>\n",
       "    </tr>\n",
       "  </thead>\n",
       "  <tbody>\n",
       "    <tr>\n",
       "      <th>0</th>\n",
       "      <td>10</td>\n",
       "      <td>8.04</td>\n",
       "      <td>10</td>\n",
       "      <td>9.14</td>\n",
       "      <td>10</td>\n",
       "      <td>7.46</td>\n",
       "      <td>8</td>\n",
       "      <td>6.58</td>\n",
       "    </tr>\n",
       "    <tr>\n",
       "      <th>1</th>\n",
       "      <td>8</td>\n",
       "      <td>6.95</td>\n",
       "      <td>8</td>\n",
       "      <td>8.14</td>\n",
       "      <td>8</td>\n",
       "      <td>6.77</td>\n",
       "      <td>8</td>\n",
       "      <td>5.76</td>\n",
       "    </tr>\n",
       "    <tr>\n",
       "      <th>2</th>\n",
       "      <td>13</td>\n",
       "      <td>7.58</td>\n",
       "      <td>13</td>\n",
       "      <td>8.74</td>\n",
       "      <td>13</td>\n",
       "      <td>12.74</td>\n",
       "      <td>8</td>\n",
       "      <td>7.71</td>\n",
       "    </tr>\n",
       "    <tr>\n",
       "      <th>3</th>\n",
       "      <td>9</td>\n",
       "      <td>8.81</td>\n",
       "      <td>9</td>\n",
       "      <td>8.77</td>\n",
       "      <td>9</td>\n",
       "      <td>7.11</td>\n",
       "      <td>8</td>\n",
       "      <td>8.84</td>\n",
       "    </tr>\n",
       "    <tr>\n",
       "      <th>4</th>\n",
       "      <td>11</td>\n",
       "      <td>8.33</td>\n",
       "      <td>11</td>\n",
       "      <td>9.26</td>\n",
       "      <td>11</td>\n",
       "      <td>7.81</td>\n",
       "      <td>8</td>\n",
       "      <td>8.47</td>\n",
       "    </tr>\n",
       "  </tbody>\n",
       "</table>\n",
       "</div>"
      ],
      "text/plain": [
       "   x1    y1  x2    y2  x3     y3  x4    y4\n",
       "0  10  8.04  10  9.14  10   7.46   8  6.58\n",
       "1   8  6.95   8  8.14   8   6.77   8  5.76\n",
       "2  13  7.58  13  8.74  13  12.74   8  7.71\n",
       "3   9  8.81   9  8.77   9   7.11   8  8.84\n",
       "4  11  8.33  11  9.26  11   7.81   8  8.47"
      ]
     },
     "execution_count": 46,
     "metadata": {},
     "output_type": "execute_result"
    }
   ],
   "source": [
    "import pandas as pd\n",
    "import numpy as np\n",
    "import matplotlib.pyplot as plt\n",
    "import scipy as sci\n",
    "data = pd.read_csv(\"AnscombesQuartet.csv\")\n",
    "data.head()"
   ]
  },
  {
   "cell_type": "code",
   "execution_count": 47,
   "metadata": {},
   "outputs": [
    {
     "data": {
      "text/plain": [
       "[<matplotlib.lines.Line2D at 0x1d3a4ad1ec8>]"
      ]
     },
     "execution_count": 47,
     "metadata": {},
     "output_type": "execute_result"
    },
    {
     "data": {
      "image/png": "[encoded data removed]",
      "text/plain": [
       "<Figure size 432x288 with 4 Axes>"
      ]
     },
     "metadata": {
      "needs_background": "light"
     },
     "output_type": "display_data"
    }
   ],
   "source": [
    "fig, axs = plt.subplots(nrows=2, ncols=2)\n",
    "\n",
    "axs[0][0].plot(data[\"x1\"], data[\"y1\"], linestyle=\"none\", marker=\".\")\n",
    "axs[0][1].plot(data[\"x2\"], data[\"y2\"], linestyle=\"none\", marker=\".\")\n",
    "axs[1][0].plot(data[\"x3\"], data[\"y3\"], linestyle=\"none\", marker=\".\")\n",
    "axs[1][1].plot(data[\"x4\"], data[\"y4\"], linestyle=\"none\", marker=\".\")\n",
    "\n",
    "from scipy import stats\n",
    "lin1 = stats.linregress(data[\"x1\"], data[\"y1\"])\n",
    "min1 = data[\"x1\"].min()\n",
    "max1 = data[\"x1\"].max()\n",
    "slope1 = lin1[0]\n",
    "intercept1 = lin1[1]\n",
    "\n",
    "lin2 = stats.linregress(data[\"x2\"], data[\"y2\"])\n",
    "min2 = data[\"x2\"].min()\n",
    "max2 = data[\"x2\"].max()\n",
    "slope2 = lin2[0]\n",
    "intercept2 = lin2[1]\n",
    "\n",
    "lin3 = stats.linregress(data[\"x3\"], data[\"y3\"])\n",
    "min3 = data[\"x3\"].min()\n",
    "max3 = data[\"x3\"].max()\n",
    "slope3 = lin3[0]\n",
    "intercept3 = lin3[1]\n",
    "\n",
    "lin4 = stats.linregress(data[\"x4\"], data[\"y4\"])\n",
    "min4 = data[\"x4\"].min()\n",
    "max4 = data[\"x4\"].max()\n",
    "slope4 = lin4[0]\n",
    "intercept4 = lin4[1]\n",
    "\n",
    "\n",
    "axs[0][0].plot([min1, max1], [min1 * slope1 + intercept1, max1 * slope1 + intercept1])\n",
    "axs[0][1].plot([min2, max2], [min2 * slope2 + intercept2, max2 * slope2 + intercept2])\n",
    "axs[1][0].plot([min3, max3], [min3 * slope3 + intercept3, max3 * slope3 + intercept3])\n",
    "axs[1][1].plot([min4, max4], [min4 * slope4 + intercept4, max4 * slope4 + intercept4])"
   ]
  }
 ],
 "metadata": {
  "kernelspec": {
   "display_name": "Python 3",
   "language": "python",
   "name": "python3"
  },
  "language_info": {
   "codemirror_mode": {
    "name": "ipython",
    "version": 3
   },
   "file_extension": ".py",
   "mimetype": "text/x-python",
   "name": "python",
   "nbconvert_exporter": "python",
   "pygments_lexer": "ipython3",
   "version": "3.7.6"
  }
 },
 "nbformat": 4,
 "nbformat_minor": 4
}
