{
 "cells": [
  {
   "cell_type": "markdown",
   "metadata": {},
   "source": [
    "# 6.21 Math: approx. the square root\n",
    "(Math: approximate the square root) There are several techniques for implementing\n",
    "the sqrt function in the math module. One such technique is known as the\n",
    "Babylonian function. It approximates the square root of a number, n, by repeatedly\n",
    "performing a calculation using the following formula:\n",
    "nextGuess = (lastGuess + (n / lastGuess)) / 2\n",
    "When nextGuess and lastGuess are almost identical, nextGuess is the\n",
    "approximated square root. The initial guess can be any positive value (e.g., 1).\n",
    "This value will be the starting value for lastGuess. If the difference between\n",
    "nextGuess and lastGuess is less than a very small number, such as 0.0001,\n",
    "you can claim that nextGuess is the approximated square root of n. If not,\n",
    "nextGuess becomes lastGuess and the approximation process continues.\n",
    "Implement the following function that returns the square root of n.\n",
    "def sqrt(n):"
   ]
  },
  {
   "cell_type": "code",
   "execution_count": 11,
   "metadata": {},
   "outputs": [
    {
     "name": "stdout",
     "output_type": "stream",
     "text": [
      "The aprrox of square root is 1.4142135623746899 .\n"
     ]
    }
   ],
   "source": [
    " def  sqrt(n):\n",
    "        lastGuess = n\n",
    "        nextGuess = 0\n",
    "        \n",
    "        while 1: # means being alwasy true\n",
    "            nextGuess = (lastGuess + (n / lastGuess)) / 2\n",
    "            if lastGuess - nextGuess <= 0.0001:\n",
    "                return nextGuess\n",
    "            else:\n",
    "                lastGuess = nextGuess\n",
    "print(\"The aprrox of square root is\", sqrt(2), \".\")\n",
    "\n"
   ]
  },
  {
   "cell_type": "markdown",
   "metadata": {},
   "source": [
    "# 6.34 Geometry: area of a regular polygon\n",
    "    "
   ]
  },
  {
   "cell_type": "code",
   "execution_count": null,
   "metadata": {},
   "outputs": [],
   "source": []
  },
  {
   "cell_type": "code",
   "execution_count": 1,
   "metadata": {},
   "outputs": [
    {
     "name": "stdout",
     "output_type": "stream",
     "text": [
      "Input number of sides: 5\n",
      "Input the length of a side: 10\n",
      "The area of the polygon is:  172.04774005889672\n"
     ]
    }
   ],
   "source": [
    "### 1 version\n",
    "from math import tan, pi\n",
    "n_sides = int(input(\"Input number of sides: \"))\n",
    "s_length = float(input(\"Input the length of a side: \"))\n",
    "p_area = n_sides * (s_length ** 2) / (4 * tan(pi / n_sides))\n",
    "print(\"The area of the polygon is: \",p_area)"
   ]
  },
  {
   "cell_type": "code",
   "execution_count": 5,
   "metadata": {},
   "outputs": [
    {
     "name": "stdout",
     "output_type": "stream",
     "text": [
      "Input number of sides: 3\n",
      "Input the length of a side: 3\n"
     ]
    },
    {
     "data": {
      "text/plain": [
       "3.8971143170299753"
      ]
     },
     "execution_count": 5,
     "metadata": {},
     "output_type": "execute_result"
    }
   ],
   "source": [
    "def area (n_sides, s_length):\n",
    "    n_sides = int(input(\"Input number of sides: \"))\n",
    "    s_length = float(input(\"Input the length of a side: \"))\n",
    "    p_area = n_sides * (s_length ** 2) / (4 * tan(pi / n_sides))\n",
    "    return (p_area)\n",
    "\n",
    "area(3,6)\n"
   ]
  },
  {
   "cell_type": "markdown",
   "metadata": {},
   "source": [
    "# 8.3 Check password"
   ]
  },
  {
   "cell_type": "markdown",
   "metadata": {},
   "source": [
    "Some Web sites impose certain rules for passwords. Write a\n",
    "function that checks whether a string is a valid password. Suppose the password\n",
    "rules are as follows:\n",
    "■ A password must have at least eight characters.\n",
    "■ A password must consist of only letters and digits.\n",
    "■ A password must contain at least two digits.\n",
    "Write a program that prompts the user to enter a password and displays valid\n",
    "password if the rules are followed or invalid password otherwise."
   ]
  },
  {
   "cell_type": "code",
   "execution_count": null,
   "metadata": {},
   "outputs": [],
   "source": [
    "#mein erster Versuch\n",
    "\n",
    "s = input(\"Enter password: \")\n",
    "\n",
    "def rulesPassword (EightChar, letterDigits,digits2):\n",
    "    \n",
    "\n",
    "# 1 rule: password must consist of only letters and digits.\n",
    "rule_1 = str(max(7))\n",
    "\n",
    "# rule 2 : A password must consist of only letters and digits.\n",
    "rule2 = char(0) AND d\n",
    "\n",
    "\n",
    "d=l=0\n",
    "for c in s:\n",
    "    if c.isdigit():\n",
    "        d=d+1\n",
    "    elif c.isalpha():\n",
    "        l=l+1\n",
    "    else:\n",
    "        pass\n",
    "print(\"Letters\", l)\n",
    "print(\"Digits\", d)\n"
   ]
  },
  {
   "cell_type": "code",
   "execution_count": null,
   "metadata": {},
   "outputs": [],
   "source": [
    "# Tuan functioncs\n",
    "\n",
    "def is_at_least_eight_chars(password):\n",
    "    return len(password) > 7\n",
    "\n",
    "def is_only_letter_and_digits(password):\n",
    "    return password.isalnum()\n",
    "\n",
    "def is_at_least_two_digit(password):\n",
    "    digits_in_password = [d for d in password if d.isdigit()]\n",
    "    return len(digits_in_password) > 1\n",
    "\n",
    "def validate(password):\n",
    "    if is_at_least_eight_chars(password)   and\\\n",
    "       is_only_letter_and_digits(password) and\\\n",
    "       is_at_least_two_digit(password):\n",
    "        print('Password is valid.')\n",
    "    else:\n",
    "        print('Password is invalid.')"
   ]
  },
  {
   "cell_type": "markdown",
   "metadata": {},
   "source": [
    "#  8.4 Occurrences of a specified character \n",
    "Write a function that finds the number of\n",
    "occurrences of a specified character in a string using the following header:\n",
    "def count(s, ch):\n",
    "The str class has the count method. Implement your method without using the\n",
    "count method. For example, count(\"Welcome\", 'e') returns 2. Write a test\n",
    "program that prompts the user to enter a string followed by a character and displays\n",
    "the number of occurrences of the character in the string."
   ]
  },
  {
   "cell_type": "code",
   "execution_count": null,
   "metadata": {},
   "outputs": [],
   "source": [
    "def count(s, ch):\n",
    "    chars = [ c == ch for c in s]\n",
    "    return sum(chars)\n"
   ]
  },
  {
   "cell_type": "code",
   "execution_count": null,
   "metadata": {},
   "outputs": [],
   "source": [
    "print(count('Welcome', 'e'))\n",
    "print(count('Occurrences', 'c'))\n",
    "print(count('Occurrences', 'A'))\n",
    "print(count('A'*100, 'A'))"
   ]
  }
 ],
 "metadata": {
  "kernelspec": {
   "display_name": "Python 3",
   "language": "python",
   "name": "python3"
  },
  "language_info": {
   "codemirror_mode": {
    "name": "ipython",
    "version": 3
   },
   "file_extension": ".py",
   "mimetype": "text/x-python",
   "name": "python",
   "nbconvert_exporter": "python",
   "pygments_lexer": "ipython3",
   "version": "3.7.6"
  }
 },
 "nbformat": 4,
 "nbformat_minor": 4
}
