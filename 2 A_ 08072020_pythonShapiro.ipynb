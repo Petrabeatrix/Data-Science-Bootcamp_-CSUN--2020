{
 "cells": [
  {
   "cell_type": "code",
   "execution_count": 2,
   "metadata": {},
   "outputs": [],
   "source": [
    "# Geometry area of regular polygon\n"
   ]
  },
  {
   "cell_type": "code",
   "execution_count": 2,
   "metadata": {},
   "outputs": [
    {
     "name": "stdout",
     "output_type": "stream",
     "text": [
      "Enter the number of sides:5\n",
      "Enter the side: 4\n",
      "The area of the polygon is  27.527638409423474\n"
     ]
    }
   ],
   "source": [
    "import math\n",
    "\n",
    "n = int(input(\"Enter the number of sides:\"))\n",
    "s = float(input(\"Enter the side: \" ))\n",
    "\n",
    "numerator = n * (s**2)\n",
    "denominator = 4 * math.tan(math.pi/n)\n",
    "area = numerator/denominator\n",
    "\n",
    "# area = ((s/2)**2) * (n/math.tan(math.pi/n))\n",
    "\n",
    "#print(area)\n",
    "print(\"The area of the polygon is \", area)\n",
    "\n",
    "\n"
   ]
  },
  {
   "cell_type": "markdown",
   "metadata": {},
   "source": [
    "### Geometry: interseting point\n",
    "# All points are used with Cramer rule:"
   ]
  },
  {
   "cell_type": "code",
   "execution_count": 8,
   "metadata": {
    "scrolled": true
   },
   "outputs": [
    {
     "name": "stdout",
     "output_type": "stream",
     "text": [
      "the intersecting points is  2.888888888888889 -1.1111111111111112\n",
      "-1.1111111111111112\n",
      "2.888888888888889\n"
     ]
    }
   ],
   "source": [
    "import math\n",
    "\n",
    "x1 = 2\n",
    "y1 = 2\n",
    "x2 = 5\n",
    "y2 = -1\n",
    "x3 = 4\n",
    "y3 = 2\n",
    "x4 = -1\n",
    "y4 = -2\n",
    "\n",
    "\n",
    "\n",
    "a = y1 - y2\n",
    "b = x1 - x2\n",
    "e = (y1 - y2)*x1 - (x1 - x2)*y1\n",
    "\n",
    "c = y3 - y4\n",
    "d = x3 - x4\n",
    "f = (y3 - y4)*x3 - (x3 - x4)*y3\n",
    "\n",
    "\n",
    "\n",
    "x = (e * d - b * f) / (a * d - b * c)\n",
    "y = (a * f - e * c) / (a * d - b * c)\n",
    "\n",
    "\n",
    "print(\"The intersecting points is \" , x, y)\n",
    "     \n",
    "    \n",
    "print(y)\n",
    "print(x)\n",
    "     "
   ]
  },
  {
   "cell_type": "code",
   "execution_count": 1,
   "metadata": {},
   "outputs": [
    {
     "name": "stdout",
     "output_type": "stream",
     "text": [
      "Enter x1, y1,x2 , y2, x3, y3, x4, y4: \n",
      "4,4,5,5,7,3,2,4\n",
      "The intersecting points is  3.6666666666666665 -3.6666666666666665\n"
     ]
    }
   ],
   "source": [
    "# with input\n",
    "\n",
    "import math\n",
    "\n",
    "print('Enter x1, y1,x2 , y2, x3, y3, x4, y4: ')\n",
    "\n",
    "x1, y1,x2 , y2, x3, y3, x4, y4 = [int(x) for x in input().split(',')]\n",
    "\n",
    "a = y1 - y2\n",
    "b = x1 - x2\n",
    "e = (y1 - y2)*x1 - (x1 - x2)*y1\n",
    "\n",
    "c = y3 - y4\n",
    "d = x3 - x4\n",
    "f = (y3 - y4)*x3 - (x3 - x4)*y3\n",
    "\n",
    "x = (e * d - b * f) / (a * d - b * c)\n",
    "y = (a * f - e * c) / (a * d - b * c)\n",
    "\n",
    "print(\"The intersecting points is \" , x, y)\n"
   ]
  }
 ],
 "metadata": {
  "kernelspec": {
   "display_name": "Python 3",
   "language": "python",
   "name": "python3"
  },
  "language_info": {
   "codemirror_mode": {
    "name": "ipython",
    "version": 3
   },
   "file_extension": ".py",
   "mimetype": "text/x-python",
   "name": "python",
   "nbconvert_exporter": "python",
   "pygments_lexer": "ipython3",
   "version": "3.7.6"
  }
 },
 "nbformat": 4,
 "nbformat_minor": 4
}
