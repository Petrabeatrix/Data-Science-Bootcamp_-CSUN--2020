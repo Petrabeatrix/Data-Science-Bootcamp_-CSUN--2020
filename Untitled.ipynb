{
 "cells": [
  {
   "cell_type": "code",
   "execution_count": 1,
   "metadata": {},
   "outputs": [],
   "source": [
    "# Using regression-data-set.csv find the best fit parameters to\n",
    "# a, b, c, and d to fit the function y = a + b cos(cx + d)\n",
    "import numpy as np\n",
    "import pandas as pd\n",
    "import matplotlib.pyplot as plt\n",
    "from sklearn.model_selection import train_test_split\n",
    "from sklearn.metrics import mean_squared_error\n",
    "from scipy.optimize import curve_fit"
   ]
  },
  {
   "cell_type": "code",
   "execution_count": 2,
   "metadata": {},
   "outputs": [],
   "source": [
    "# Initial setup\n",
    "\n",
    "data = pd.read_csv('regression-data-set.csv')\n",
    "\n",
    "x_data = np.array(data['x'])\n",
    "y_data = np.array(data['y'])"
   ]
  },
  {
   "cell_type": "code",
   "execution_count": 3,
   "metadata": {},
   "outputs": [],
   "source": [
    " # a. do a train/test split\n",
    "x_train, x_test, y_train, y_test = train_test_split(x_data, y_data)"
   ]
  },
  {
   "cell_type": "code",
   "execution_count": 4,
   "metadata": {},
   "outputs": [],
   "source": [
    " # b. fit the data using the training set and curve_fit\n",
    "\n",
    "# curve function\n",
    "def curve(x, a, b, c, d):\n",
    "    return a + b * np.cos(c * x + d)\n",
    "\n",
    "# use curve_fit\n",
    "popt, pcov = curve_fit(curve, x_train, y_train)"
   ]
  },
  {
   "cell_type": "code",
   "execution_count": 5,
   "metadata": {},
   "outputs": [],
   "source": [
    " # c. Calculate the MSE with the optimized parameters on the test set\n",
    "y_predicted = curve(x_test, *popt)\n",
    "\n",
    "mse = mean_squared_error(y_test, y_predicted)"
   ]
  },
  {
   "cell_type": "code",
   "execution_count": 6,
   "metadata": {},
   "outputs": [
    {
     "ename": "SyntaxError",
     "evalue": "invalid syntax (<ipython-input-6-6e95ccbad515>, line 43)",
     "output_type": "error",
     "traceback": [
      "\u001b[1;36m  File \u001b[1;32m\"<ipython-input-6-6e95ccbad515>\"\u001b[1;36m, line \u001b[1;32m43\u001b[0m\n\u001b[1;33m    std = errors.std()  In [7]:  # e. compare results on a single plot\u001b[0m\n\u001b[1;37m                         ^\u001b[0m\n\u001b[1;31mSyntaxError\u001b[0m\u001b[1;31m:\u001b[0m invalid syntax\n"
     ]
    }
   ],
   "source": [
    "# d. repeat 100 times and calculate the mean and standard deviation\n",
    "# of the MSE\n",
    "\n",
    "# create function to calculate mse based on x and y data\n",
    "def train_fit_calc_mse(x, y):\n",
    "    # generate training data\n",
    "    x_tr, x_ts, y_tr, y_ts = train_test_split(x, y)\n",
    "    \n",
    "    # curve_fit based on training data\n",
    "    coef, cov = curve_fit(curve, x_tr, y_tr)\n",
    "    \n",
    "    # get prediced values from generate coefs\n",
    "    y_pre = curve(x_ts, *coef)\n",
    "    \n",
    "    # get mse from predicted data\n",
    "    mse = mean_squared_error(y_ts, y_pre)\n",
    "    \n",
    "    return mse, coef\n",
    "\n",
    "# initialize errors array\n",
    "errors = []\n",
    "\n",
    "# extra arrays for storing coefficients\n",
    "a = []\n",
    "b = []\n",
    "c = []\n",
    "d = []\n",
    "\n",
    "# generate 100 error values\n",
    "for i in range(100):\n",
    "    mse,coefs = train_fit_calc_mse(x_data, y_data)\n",
    "    \n",
    "    errors.append(mse)\n",
    "    \n",
    "    a.append(coefs[0])\n",
    "    b.append(coefs[1])\n",
    "    c.append(coefs[2])\n",
    "    d.append(coefs[3])\n",
    "    \n",
    "# calculate mean and std from the errors\n",
    "errors = np.array(errors)\n",
    "mean = errors.mean()\n",
    "std = errors.std()  In [7]:  # e. compare results on a single plot\n",
    "\n",
    "# plot the errors\n",
    "plt.scatter(np.linspace(1,100,100), errors, label=\"Errors\")\n",
    "\n",
    "# plot the mean of errors\n",
    "plt.plot(np.array([1,100]), np.array([mean] * 2), color='red', label=\"Mean of Errors\")\n",
    "\n",
    "# plot the +/- one std from mean\n",
    "plt.plot(np.array([1,100]), np.array([mean]*2)+std, color='green', label=\"+ 1 std\")\n",
    "plt.plot(np.array([1,100]), np.array([mean]*2)-std, color='green', label=\"- 1 std\")\n",
    "\n",
    "# plot options\n",
    "plt.legend()\n",
    "plt.grid()\n",
    "plt.yscale('log')\n",
    "\n",
    "# show plot\n",
    "plt.show()"
   ]
  },
  {
   "cell_type": "code",
   "execution_count": 7,
   "metadata": {},
   "outputs": [
    {
     "ename": "NameError",
     "evalue": "name 'a' is not defined",
     "output_type": "error",
     "traceback": [
      "\u001b[1;31m---------------------------------------------------------------------------\u001b[0m",
      "\u001b[1;31mNameError\u001b[0m                                 Traceback (most recent call last)",
      "\u001b[1;32m<ipython-input-7-a248df7f74d7>\u001b[0m in \u001b[0;36m<module>\u001b[1;34m\u001b[0m\n\u001b[0;32m      2\u001b[0m \u001b[1;33m\u001b[0m\u001b[0m\n\u001b[0;32m      3\u001b[0m \u001b[1;31m# convert coef arrays\u001b[0m\u001b[1;33m\u001b[0m\u001b[1;33m\u001b[0m\u001b[1;33m\u001b[0m\u001b[0m\n\u001b[1;32m----> 4\u001b[1;33m \u001b[0ma\u001b[0m \u001b[1;33m=\u001b[0m \u001b[0mnp\u001b[0m\u001b[1;33m.\u001b[0m\u001b[0marray\u001b[0m\u001b[1;33m(\u001b[0m\u001b[0ma\u001b[0m\u001b[1;33m)\u001b[0m\u001b[1;33m\u001b[0m\u001b[1;33m\u001b[0m\u001b[0m\n\u001b[0m\u001b[0;32m      5\u001b[0m \u001b[0mb\u001b[0m \u001b[1;33m=\u001b[0m \u001b[0mnp\u001b[0m\u001b[1;33m.\u001b[0m\u001b[0marray\u001b[0m\u001b[1;33m(\u001b[0m\u001b[0mb\u001b[0m\u001b[1;33m)\u001b[0m\u001b[1;33m\u001b[0m\u001b[1;33m\u001b[0m\u001b[0m\n\u001b[0;32m      6\u001b[0m \u001b[0mc\u001b[0m \u001b[1;33m=\u001b[0m \u001b[0mnp\u001b[0m\u001b[1;33m.\u001b[0m\u001b[0marray\u001b[0m\u001b[1;33m(\u001b[0m\u001b[0mc\u001b[0m\u001b[1;33m)\u001b[0m\u001b[1;33m\u001b[0m\u001b[1;33m\u001b[0m\u001b[0m\n",
      "\u001b[1;31mNameError\u001b[0m: name 'a' is not defined"
     ]
    }
   ],
   "source": [
    "# EXTRA: Generate 4d plot of cofficients used\n",
    "\n",
    "# convert coef arrays\n",
    "a = np.array(a)\n",
    "b = np.array(b)\n",
    "c = np.array(c)\n",
    "d = np.array(d)\n",
    "\n",
    "fig = plt.figure()\n",
    "ax = fig.add_subplot(111, projection='3d')\n",
    "\n",
    "img = ax.scatter(a,b,c,c=d, cmap=plt.cool(), s=100)\n",
    "cbar = fig.colorbar(img)\n",
    "fig.set_size_inches(12,12)\n",
    "ax.set_xlabel('a', fontsize='large', labelpad=10)\n",
    "ax.set_ylabel('b', fontsize='large', labelpad=10)\n",
    "ax.set_zlabel('c', fontsize='large', labelpad=10)\n",
    "cbar.ax.set_ylabel(\"d\", rotation='horizontal', fontsize='large')\n",
    "plt.show()"
   ]
  },
  {
   "cell_type": "code",
   "execution_count": null,
   "metadata": {},
   "outputs": [],
   "source": []
  },
  {
   "cell_type": "code",
   "execution_count": null,
   "metadata": {},
   "outputs": [],
   "source": []
  },
  {
   "cell_type": "code",
   "execution_count": null,
   "metadata": {},
   "outputs": [],
   "source": []
  }
 ],
 "metadata": {
  "kernelspec": {
   "display_name": "Python 3",
   "language": "python",
   "name": "python3"
  },
  "language_info": {
   "codemirror_mode": {
    "name": "ipython",
    "version": 3
   },
   "file_extension": ".py",
   "mimetype": "text/x-python",
   "name": "python",
   "nbconvert_exporter": "python",
   "pygments_lexer": "ipython3",
   "version": "3.7.6"
  }
 },
 "nbformat": 4,
 "nbformat_minor": 4
}
