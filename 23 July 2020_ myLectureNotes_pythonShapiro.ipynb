{
 "cells": [
  {
   "cell_type": "markdown",
   "metadata": {},
   "source": [
    "# homework \n",
    "homework:\n",
    "\n",
    "-- COVID19 line list data.csv\n",
    "\n",
    "-- extract only two columns\n",
    "\n",
    "-- (1) age of patient (2) died/date of death\n",
    "\n",
    "-- convert death column to 1/0 for 1=died, 0 if survived\n",
    "\n",
    "-- do logistic regression on probability of survival as a function of age\n",
    "\n",
    "-- This file has the first 1000 patients that had covid in world\n"
   ]
  },
  {
   "cell_type": "code",
   "execution_count": 3,
   "metadata": {},
   "outputs": [],
   "source": [
    "import pandas as pd\n",
    "import numpy as np\n",
    "import matplotlib.pyplot as plt"
   ]
  },
  {
   "cell_type": "code",
   "execution_count": 4,
   "metadata": {},
   "outputs": [
    {
     "data": {
      "text/html": [
       "<div>\n",
       "<style scoped>\n",
       "    .dataframe tbody tr th:only-of-type {\n",
       "        vertical-align: middle;\n",
       "    }\n",
       "\n",
       "    .dataframe tbody tr th {\n",
       "        vertical-align: top;\n",
       "    }\n",
       "\n",
       "    .dataframe thead th {\n",
       "        text-align: right;\n",
       "    }\n",
       "</style>\n",
       "<table border=\"1\" class=\"dataframe\">\n",
       "  <thead>\n",
       "    <tr style=\"text-align: right;\">\n",
       "      <th></th>\n",
       "      <th>id</th>\n",
       "      <th>case_in_country</th>\n",
       "      <th>reporting date</th>\n",
       "      <th>Unnamed: 3</th>\n",
       "      <th>summary</th>\n",
       "      <th>location</th>\n",
       "      <th>country</th>\n",
       "      <th>gender</th>\n",
       "      <th>age</th>\n",
       "      <th>symptom_onset</th>\n",
       "      <th>...</th>\n",
       "      <th>hosp_visit_date</th>\n",
       "      <th>exposure_start</th>\n",
       "      <th>exposure_end</th>\n",
       "      <th>visiting Wuhan</th>\n",
       "      <th>from Wuhan</th>\n",
       "      <th>death</th>\n",
       "      <th>recovered</th>\n",
       "      <th>symptom</th>\n",
       "      <th>source</th>\n",
       "      <th>link</th>\n",
       "    </tr>\n",
       "  </thead>\n",
       "  <tbody>\n",
       "    <tr>\n",
       "      <th>0</th>\n",
       "      <td>1</td>\n",
       "      <td>NaN</td>\n",
       "      <td>1/20/2020</td>\n",
       "      <td>NaN</td>\n",
       "      <td>First confirmed imported COVID-19 pneumonia pa...</td>\n",
       "      <td>Shenzhen, Guangdong</td>\n",
       "      <td>China</td>\n",
       "      <td>male</td>\n",
       "      <td>66.0</td>\n",
       "      <td>1/3/2020</td>\n",
       "      <td>...</td>\n",
       "      <td>1/11/2020</td>\n",
       "      <td>12/29/2019</td>\n",
       "      <td>1/4/2020</td>\n",
       "      <td>1.0</td>\n",
       "      <td>0.0</td>\n",
       "      <td>0.0</td>\n",
       "      <td>0.00</td>\n",
       "      <td>NaN</td>\n",
       "      <td>Shenzhen Municipal Health Commission</td>\n",
       "      <td>http://wjw.sz.gov.cn/wzx/202001/t20200120_1898...</td>\n",
       "    </tr>\n",
       "    <tr>\n",
       "      <th>1</th>\n",
       "      <td>2</td>\n",
       "      <td>NaN</td>\n",
       "      <td>1/20/2020</td>\n",
       "      <td>NaN</td>\n",
       "      <td>First confirmed imported COVID-19 pneumonia pa...</td>\n",
       "      <td>Shanghai</td>\n",
       "      <td>China</td>\n",
       "      <td>female</td>\n",
       "      <td>56.0</td>\n",
       "      <td>1/15/2020</td>\n",
       "      <td>...</td>\n",
       "      <td>1/15/2020</td>\n",
       "      <td>NaN</td>\n",
       "      <td>1/12/2020</td>\n",
       "      <td>0.0</td>\n",
       "      <td>1.0</td>\n",
       "      <td>0.0</td>\n",
       "      <td>0.00</td>\n",
       "      <td>NaN</td>\n",
       "      <td>Official Weibo of Shanghai Municipal Health Co...</td>\n",
       "      <td>https://www.weibo.com/2372649470/IqogQhgfa?fro...</td>\n",
       "    </tr>\n",
       "    <tr>\n",
       "      <th>2</th>\n",
       "      <td>3</td>\n",
       "      <td>NaN</td>\n",
       "      <td>1/21/2020</td>\n",
       "      <td>NaN</td>\n",
       "      <td>First confirmed imported cases in Zhejiang: pa...</td>\n",
       "      <td>Zhejiang</td>\n",
       "      <td>China</td>\n",
       "      <td>male</td>\n",
       "      <td>46.0</td>\n",
       "      <td>1/4/2020</td>\n",
       "      <td>...</td>\n",
       "      <td>1/17/2020</td>\n",
       "      <td>NaN</td>\n",
       "      <td>1/3/2020</td>\n",
       "      <td>0.0</td>\n",
       "      <td>1.0</td>\n",
       "      <td>0.0</td>\n",
       "      <td>0.00</td>\n",
       "      <td>NaN</td>\n",
       "      <td>Health Commission of Zhejiang Province</td>\n",
       "      <td>http://www.zjwjw.gov.cn/art/2020/1/21/art_1202...</td>\n",
       "    </tr>\n",
       "  </tbody>\n",
       "</table>\n",
       "<p>3 rows × 21 columns</p>\n",
       "</div>"
      ],
      "text/plain": [
       "   id  case_in_country reporting date  Unnamed: 3  \\\n",
       "0   1              NaN      1/20/2020         NaN   \n",
       "1   2              NaN      1/20/2020         NaN   \n",
       "2   3              NaN      1/21/2020         NaN   \n",
       "\n",
       "                                             summary             location  \\\n",
       "0  First confirmed imported COVID-19 pneumonia pa...  Shenzhen, Guangdong   \n",
       "1  First confirmed imported COVID-19 pneumonia pa...             Shanghai   \n",
       "2  First confirmed imported cases in Zhejiang: pa...             Zhejiang   \n",
       "\n",
       "  country  gender   age symptom_onset  ...  hosp_visit_date exposure_start  \\\n",
       "0   China    male  66.0      1/3/2020  ...        1/11/2020     12/29/2019   \n",
       "1   China  female  56.0     1/15/2020  ...        1/15/2020            NaN   \n",
       "2   China    male  46.0      1/4/2020  ...        1/17/2020            NaN   \n",
       "\n",
       "  exposure_end visiting Wuhan  from Wuhan  death  recovered symptom  \\\n",
       "0     1/4/2020            1.0         0.0    0.0       0.00     NaN   \n",
       "1    1/12/2020            0.0         1.0    0.0       0.00     NaN   \n",
       "2     1/3/2020            0.0         1.0    0.0       0.00     NaN   \n",
       "\n",
       "                                              source  \\\n",
       "0               Shenzhen Municipal Health Commission   \n",
       "1  Official Weibo of Shanghai Municipal Health Co...   \n",
       "2             Health Commission of Zhejiang Province   \n",
       "\n",
       "                                                link  \n",
       "0  http://wjw.sz.gov.cn/wzx/202001/t20200120_1898...  \n",
       "1  https://www.weibo.com/2372649470/IqogQhgfa?fro...  \n",
       "2  http://www.zjwjw.gov.cn/art/2020/1/21/art_1202...  \n",
       "\n",
       "[3 rows x 21 columns]"
      ]
     },
     "execution_count": 4,
     "metadata": {},
     "output_type": "execute_result"
    }
   ],
   "source": [
    "# call csv file\n",
    "\n",
    "DF = pd.read_csv('COVID19_line_list_data.csv')\n",
    "DF.head(3)"
   ]
  },
  {
   "cell_type": "code",
   "execution_count": 10,
   "metadata": {},
   "outputs": [],
   "source": [
    " # check dtype\n",
    "# DF.info()"
   ]
  },
  {
   "cell_type": "code",
   "execution_count": 6,
   "metadata": {},
   "outputs": [],
   "source": [
    " # check counts \n",
    "# DF['age'].value_counts()"
   ]
  },
  {
   "cell_type": "code",
   "execution_count": 7,
   "metadata": {},
   "outputs": [],
   "source": [
    "# clean 'age' drop NAn\n",
    "DF.dropna(subset=['age'], inplace=True)\n",
    "\n",
    "\n",
    "# check the data after removing\n",
    "#DF.info('age')\n",
    "\n",
    "age= np.array(DF['age'])\n",
    "# print(age)"
   ]
  },
  {
   "cell_type": "code",
   "execution_count": 8,
   "metadata": {},
   "outputs": [],
   "source": [
    "# chck the values of the death in the data\n",
    "# DF['death'].value_counts()\n",
    "# we can see see 0,1 and some dates\n",
    "# dates should be converted into 1 (meaning dead) and 0 survived\n",
    "\n",
    "# DF['death']"
   ]
  },
  {
   "cell_type": "code",
   "execution_count": 9,
   "metadata": {},
   "outputs": [
    {
     "data": {
      "text/plain": [
       "1    843\n",
       "Name: death, dtype: int64"
      ]
     },
     "execution_count": 9,
     "metadata": {},
     "output_type": "execute_result"
    }
   ],
   "source": [
    "# convert death column into 0 or 1\n",
    "death = DF['death'].apply(lambda x: 0 if x == '0' else 1)\n",
    "death.value_counts()"
   ]
  },
  {
   "cell_type": "code",
   "execution_count": 8,
   "metadata": {},
   "outputs": [
    {
     "data": {
      "text/plain": [
       "55.00    72\n",
       "65.00    52\n",
       "45.00    39\n",
       "75.00    37\n",
       "35.00    36\n",
       "         ..\n",
       "0.50      1\n",
       "1.00      1\n",
       "6.00      1\n",
       "0.25      1\n",
       "84.00     1\n",
       "Name: age, Length: 85, dtype: int64"
      ]
     },
     "execution_count": 8,
     "metadata": {},
     "output_type": "execute_result"
    }
   ],
   "source": [
    " # extract only two columns\n",
    "age = DF['age']\n",
    "age.value_counts()"
   ]
  },
  {
   "cell_type": "code",
   "execution_count": null,
   "metadata": {},
   "outputs": [],
   "source": []
  },
  {
   "cell_type": "code",
   "execution_count": null,
   "metadata": {},
   "outputs": [],
   "source": []
  },
  {
   "cell_type": "code",
   "execution_count": null,
   "metadata": {},
   "outputs": [],
   "source": []
  },
  {
   "cell_type": "code",
   "execution_count": null,
   "metadata": {},
   "outputs": [],
   "source": [
    "from sklearn.linear_model import LogisticRegression as LR\n",
    "from sklearn.metrics import plot_roc_curve\n",
    "# test train split\n",
    "fig, ax = plt.subplots(figsize=(18, 10))\n",
    "for i in range(10):\n",
    "    xtrain, xtest, ytrain, ytest = tts(covid.age.to_numpy(), covid.death.to_numpy())\n",
    "    model = LR()\n",
    "    fit = model.fit(xtrain.reshape(-1, 1), ytrain)\n",
    "    plot_roc_curve(model, xtest.reshape(-1,1), ytest, ax=ax)\n",
    "\n",
    "\n",
    "from sklearn.model_selection import cross_validate\n",
    "# leave out one\n",
    "fig, ax = plt.subplots(figsize=(18, 10))\n",
    "model = LR()\n",
    "results = cross_validate(model, \n",
    "                         covid.age.to_numpy().reshape(-1, 1), covid.death.to_numpy(), \n",
    "                         cv=10, return_estimator=True, scoring='roc_auc')\n",
    "for i in range(len(results['estimator'])):\n",
    "    _, xtest, _, ytest = tts(covid.age.to_numpy().reshape(-1, 1), covid.death.to_numpy())\n",
    "    plot_roc_curve(results['estimator'][i], \n",
    "                    xtest, \n",
    "                    ytest,\n",
    "                    ax=ax)"
   ]
  },
  {
   "cell_type": "code",
   "execution_count": null,
   "metadata": {},
   "outputs": [],
   "source": []
  }
 ],
 "metadata": {
  "kernelspec": {
   "display_name": "Python 3",
   "language": "python",
   "name": "python3"
  },
  "language_info": {
   "codemirror_mode": {
    "name": "ipython",
    "version": 3
   },
   "file_extension": ".py",
   "mimetype": "text/x-python",
   "name": "python",
   "nbconvert_exporter": "python",
   "pygments_lexer": "ipython3",
   "version": "3.7.6"
  }
 },
 "nbformat": 4,
 "nbformat_minor": 4
}
